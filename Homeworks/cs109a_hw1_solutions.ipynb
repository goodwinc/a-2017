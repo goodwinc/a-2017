{
 "cells": [
  {
   "cell_type": "markdown",
   "metadata": {},
   "source": [
    "As usual, first we import the necessary libraries.  In particular, we use [Seaborn](http://stanford.edu/~mwaskom/software/seaborn/) to give us a nicer default color palette, with our plots being of large (`poster`) size and with a white-grid background. "
   ]
  },
  {
   "cell_type": "code",
   "execution_count": 3,
   "metadata": {
    "collapsed": true,
    "scrolled": false
   },
   "outputs": [],
   "source": [
    "%matplotlib inline\n",
    "import numpy as np\n",
    "import scipy as sp\n",
    "import matplotlib as mpl\n",
    "import matplotlib.cm as cm\n",
    "import matplotlib.pyplot as plt\n",
    "import pandas as pd\n",
    "import time\n",
    "pd.set_option('display.width', 500)\n",
    "pd.set_option('display.max_columns', 100)\n",
    "pd.set_option('display.notebook_repr_html', True)\n",
    "import seaborn as sns\n",
    "sns.set_style(\"whitegrid\")\n",
    "sns.set_context(\"poster\")"
   ]
  },
  {
   "cell_type": "markdown",
   "metadata": {},
   "source": [
    "## Q1. Scraping Wikipedia for Billboard Top 100."
   ]
  },
  {
   "cell_type": "markdown",
   "metadata": {},
   "source": [
    "In this question you will scrape Wikipedia for the Billboard's top 100 singles."
   ]
  },
  {
   "cell_type": "markdown",
   "metadata": {},
   "source": [
    "### Scraping Wikipedia for Billboard singles"
   ]
  },
  {
   "cell_type": "markdown",
   "metadata": {},
   "source": [
    "We'll be using  [BeautifulSoup](http://www.crummy.com/software/BeautifulSoup/), and suggest that you use Python's built in `requests` library to fetch the web page."
   ]
  },
  {
   "cell_type": "markdown",
   "metadata": {},
   "source": [
    "#### 1.1 Parsing the Billboard Wikipedia page for 1970"
   ]
  },
  {
   "cell_type": "markdown",
   "metadata": {},
   "source": [
    "Obtain the web page at http://en.wikipedia.org/wiki/Billboard_Year-End_Hot_100_singles_of_1970 using a HTTP GET request. From this web page we'll extract the top 100 singles and their rankings. Create a list of dictionaries, 100 of them to be precise, with entries like \n",
    "\n",
    "`{'url': '/wiki/Sugarloaf_(band)', 'ranking': 30, 'band_singer': 'Sugarloaf', 'title': 'Green-Eyed Lady'}`. \n",
    "\n",
    "If you look at that web page, you'll see a link for every song, from which you can get the `url` of the singer or band. We will use these links later to scrape information about the singer or band. From the listing we can also get the band or singer name `band_singer`, and `title` of the song.\n",
    "\n",
    "*HINT: look for a table with class `wikitable`.*"
   ]
  },
  {
   "cell_type": "markdown",
   "metadata": {
    "scrolled": true
   },
   "source": [
    "You should get something similar to this (where songs is the aforementioned list):\n",
    "\n",
    "```\n",
    "songs[2:4]\n",
    "```\n",
    "\n",
    "```\n",
    "[{'band_singer': 'The Guess Who',\n",
    "  'ranking': 3,\n",
    "  'title': '\"American Woman\"',\n",
    "  'url': '/wiki/The_Guess_Who'},\n",
    " {'band_singer': 'B.J. Thomas',\n",
    "  'ranking': 4,\n",
    "  'title': '\"Raindrops Keep Fallin\\' on My Head\"',\n",
    "  'url': '/wiki/B.J._Thomas'}]\n",
    "```"
   ]
  },
  {
   "cell_type": "code",
   "execution_count": 4,
   "metadata": {
    "collapsed": true
   },
   "outputs": [],
   "source": [
    "from bs4 import BeautifulSoup\n",
    "# The \"requests\" library makes working with HTTP requests easier\n",
    "# than the built-in urllib libraries.\n",
    "import requests"
   ]
  },
  {
   "cell_type": "code",
   "execution_count": 3,
   "metadata": {},
   "outputs": [
    {
     "data": {
      "text/plain": [
       "<Response [200]>"
      ]
     },
     "execution_count": 3,
     "metadata": {},
     "output_type": "execute_result"
    }
   ],
   "source": [
    "# here we access the webpage and download the content using requests\n",
    "t1970=requests.get(\"http://en.wikipedia.org/wiki/Billboard_Year-End_Hot_100_singles_of_1970\")\n",
    "t1970"
   ]
  },
  {
   "cell_type": "code",
   "execution_count": 4,
   "metadata": {
    "collapsed": true
   },
   "outputs": [],
   "source": [
    "# We'll just reuse the request object that was previously created to create a BeautifulSoup element.\n",
    "soup = BeautifulSoup(t1970.text, \"html.parser\")\n",
    "\n",
    "# In this line we are looking for a single \"table\" element with a class of wikitable;\n",
    "# and then looking for all the \"tr\" elements on that table (notice the find vs find_all calls).\n",
    "rows = soup.find(\"table\", attrs={\"class\": \"wikitable\"}).find_all(\"tr\")[1:]\n",
    "\n",
    "# We then define a function whose job it is to act on\n",
    "# each column's element in each row in the table.\n",
    "def cleaner(r):\n",
    "    ranking = int(r[0].get_text())\n",
    "    title = r[1].get_text()\n",
    "    band_singer = r[2].get_text()\n",
    "    url = r[2].find(\"a\").get(\"href\")\n",
    "    return [ranking, title, band_singer, url]\n",
    "\n",
    "\n",
    "# Next we'll create a list of names that will be used as dictionary keys.\n",
    "fields = [\"ranking\", \"title\", \"band_singer\", \"url\"]\n",
    "\n",
    "# We now use the cleaner function to process each \"td\" element on a given row.\n",
    "# It gives us a bunch of band information\n",
    "# The zip function creates a list of pairs; which the dict function then uses\n",
    "# to create a dictionary, using the first element of the pair as the key and the second as\n",
    "# the value; and finally, the list comprehension iterates over each row element, and puts\n",
    "# the result of each iteration on a list, which is then bound to the songs variable.\n",
    "songs = [dict(zip(fields, cleaner(row.find_all(\"td\")))) for row in rows]"
   ]
  },
  {
   "cell_type": "code",
   "execution_count": 5,
   "metadata": {},
   "outputs": [
    {
     "data": {
      "text/plain": [
       "[{'band_singer': 'The Guess Who',\n",
       "  'ranking': 3,\n",
       "  'title': '\"American Woman\"',\n",
       "  'url': '/wiki/The_Guess_Who'},\n",
       " {'band_singer': 'B.J. Thomas',\n",
       "  'ranking': 4,\n",
       "  'title': '\"Raindrops Keep Fallin\\' on My Head\"',\n",
       "  'url': '/wiki/B.J._Thomas'}]"
      ]
     },
     "execution_count": 5,
     "metadata": {},
     "output_type": "execute_result"
    }
   ],
   "source": [
    "songs[2:4]"
   ]
  },
  {
   "cell_type": "markdown",
   "metadata": {},
   "source": [
    "#### 1.2 Generalize the previous: scrape Wikipedia from 1992 to 2014"
   ]
  },
  {
   "cell_type": "markdown",
   "metadata": {},
   "source": [
    "By visiting the urls similar to the ones for 1970, we can obtain the billboard top 100 for the years 1992 to 2014. (We choose these later years rather than 1970 as you might find music from this era more interesting.) Download these using Python's `requests` module and store the text from those requests in a dictionary called `yearstext`. This dictionary ought to have as its keys the years (as integers from 1992 to 2014), and as values corresponding to these keys the text of the page being fetched.\n",
    "\n",
    "You ought to sleep a second (look up `time.sleep` in Python) at the very least in-between fetching each web page: you do not want Wikipedia to think you are a marauding bot attempting to mount a denial-of-service attack."
   ]
  },
  {
   "cell_type": "markdown",
   "metadata": {},
   "source": [
    "*HINT: you might find `range` and string-interpolation useful to construct the URLs *.\n"
   ]
  },
  {
   "cell_type": "code",
   "execution_count": 6,
   "metadata": {},
   "outputs": [
    {
     "name": "stdout",
     "output_type": "stream",
     "text": [
      "range(1992, 2015)\n",
      "1992\n",
      "1993\n",
      "1994\n",
      "1995\n",
      "1996\n",
      "1997\n",
      "1998\n",
      "1999\n",
      "2000\n",
      "2001\n",
      "2002\n",
      "2003\n",
      "2004\n",
      "2005\n",
      "2006\n",
      "2007\n",
      "2008\n",
      "2009\n",
      "2010\n",
      "2011\n",
      "2012\n",
      "2013\n",
      "2014\n"
     ]
    }
   ],
   "source": [
    "#your code here\n",
    "years=range(1992, 2015)\n",
    "print(years)\n",
    "yearstext={}\n",
    "for y in years:\n",
    "    print(y)\n",
    "    yreq=requests.get(\"http://en.wikipedia.org/wiki/Billboard_Year-End_Hot_100_singles_of_%i\" % y)\n",
    "    yearstext[y]=yreq.text\n",
    "    time.sleep(1)"
   ]
  },
  {
   "cell_type": "markdown",
   "metadata": {},
   "source": [
    "#### 1.3 Parse and Clean data "
   ]
  },
  {
   "cell_type": "markdown",
   "metadata": {},
   "source": [
    "Remember the code you wrote to get data from 1970 which produces a list of dictionaries, one corresponding to each single.  Now write a function `parse_year(the_year, yeartext_dict)` which takes the year, prints it out, gets the text for the year from the just created `yearstext` dictionary, and return a list of dictionaries for that year, with one dictionary for each single. Store this list in the variable `yearinfo`.\n",
    "\n",
    "The dictionaries **must** be of this form:\n",
    "\n",
    "```\n",
    "{'band_singer': ['Brandy', 'Monica'],\n",
    "  'ranking': 2,\n",
    "  'song': ['The Boy Is Mine'],\n",
    "  'songurl': ['/wiki/The_Boy_Is_Mine_(song)'],\n",
    "  'titletext': '\" The Boy Is Mine \"',\n",
    "  'url': ['/wiki/Brandy_Norwood', '/wiki/Monica_(entertainer)']}\n",
    "```"
   ]
  },
  {
   "cell_type": "markdown",
   "metadata": {},
   "source": [
    "The spec of this function is provided below:"
   ]
  },
  {
   "cell_type": "code",
   "execution_count": null,
   "metadata": {
    "collapsed": true
   },
   "outputs": [],
   "source": [
    "\"\"\"\n",
    "Function\n",
    "--------\n",
    "parse_year\n",
    "\n",
    "Inputs\n",
    "------\n",
    "the_year: the year you want the singles for\n",
    "yeartext_dict: a dictionary with keys as integer years and values the downloaded web pages \n",
    "    from wikipedia for that year.\n",
    "   \n",
    "Returns\n",
    "-------\n",
    "\n",
    "a list of dictionaries, each of which corresponds to a single and has the\n",
    "following data:\n",
    "\n",
    "Eg:\n",
    "\n",
    "{'band_singer': ['Brandy', 'Monica'],\n",
    "  'ranking': 2,\n",
    "  'song': ['The Boy Is Mine'],\n",
    "  'songurl': ['/wiki/The_Boy_Is_Mine_(song)'],\n",
    "  'titletext': '\" The Boy Is Mine \"',\n",
    "  'url': ['/wiki/Brandy_Norwood', '/wiki/Monica_(entertainer)']}\n",
    "  \n",
    "A dictionary with the following data:\n",
    "    band_singer: a list of bands/singers who made this single\n",
    "    song: a list of the titles of songs on this single\n",
    "    songurl: a list of the same size as song which has urls for the songs on the single \n",
    "        (see point 3 above)\n",
    "    ranking: ranking of the single\n",
    "    titletext: the contents of the table cell\n",
    "    band_singer: a list of bands or singers on this single\n",
    "    url: a list of wikipedia singer/band urls on this single: only put in the part \n",
    "        of the url from /wiki onwards\n",
    "    \n",
    "\n",
    "Notes\n",
    "-----\n",
    "See description and example above.\n",
    "\"\"\""
   ]
  },
  {
   "cell_type": "markdown",
   "metadata": {},
   "source": [
    "#### Helpful notes\n",
    "\n",
    "Notice that some singles might have multiple songs:\n",
    "\n",
    "```\n",
    "{'band_singer': ['Jewel'],\n",
    "  'ranking': 2,\n",
    "  'song': ['Foolish Games', 'You Were Meant for Me'],\n",
    "  'songurl': ['/wiki/Foolish_Games',\n",
    "   '/wiki/You_Were_Meant_for_Me_(Jewel_song)'],\n",
    "  'titletext': '\" Foolish Games \" / \" You Were Meant for Me \"',\n",
    "  'url': ['/wiki/Jewel_(singer)']}\n",
    "```"
   ]
  },
  {
   "cell_type": "markdown",
   "metadata": {},
   "source": [
    "And some singles don't have a song URL:\n",
    "\n",
    "```\n",
    "{'band_singer': [u'Nu Flavor'],\n",
    "  'ranking': 91,\n",
    "  'song': [u'Heaven'],\n",
    "  'songurl': [None],\n",
    "  'titletext': u'\"Heaven\"',\n",
    "  'url': [u'/wiki/Nu_Flavor']}\n",
    "```"
   ]
  },
  {
   "cell_type": "markdown",
   "metadata": {},
   "source": [
    "Thus there are some issues this function must handle:\n",
    "\n",
    "1. There can be more than one  `band_singer` as can be seen above (sometimes with a comma, sometimes with \"featuring\" in between). The best way to parse these is to look for the urls.\n",
    "2. There can be two songs in a single, because of the way the industry works: there are two-sided singles. See https://en.wikipedia.org/wiki/Billboard_Year-End_Hot_100_singles_of_1997 for an example. You can find other examples in 1998 and 1999.\n",
    "3. The `titletext` is the contents of the table cell, and retains the quotes that Wikipedia puts on the single.\n",
    "4. If no song anchor is found (see the 24th song in the above url), assume there is one song in the single, set `songurl` to [`None`] and the song name to the contents of the table cell with the quotes stripped (ie `song` is a one-element list with this the `titletext` stripped of its quotes)."
   ]
  },
  {
   "cell_type": "markdown",
   "metadata": {},
   "source": [
    "As a check, we can do this for 1997. We'll print the first 5 outputs: `parse_year(1997, yearstext)[:5]`"
   ]
  },
  {
   "cell_type": "markdown",
   "metadata": {},
   "source": [
    "This should give the following. Notice that the year 1997 exercises the edge cases we talked about earlier."
   ]
  },
  {
   "cell_type": "markdown",
   "metadata": {},
   "source": [
    "```\n",
    "[{'band_singer': ['Elton John'],\n",
    "  'ranking': 1,\n",
    "  'song': ['Something About the Way You Look Tonight',\n",
    "   'Candle in the Wind 1997'],\n",
    "  'songurl': ['/wiki/Something_About_the_Way_You_Look_Tonight',\n",
    "   '/wiki/Candle_in_the_Wind_1997'],\n",
    "  'titletext': '\" Something About the Way You Look Tonight \" / \" Candle in the Wind 1997 \"',\n",
    "  'url': ['/wiki/Elton_John']},\n",
    " {'band_singer': ['Jewel'],\n",
    "  'ranking': 2,\n",
    "  'song': ['Foolish Games', 'You Were Meant for Me'],\n",
    "  'songurl': ['/wiki/Foolish_Games',\n",
    "   '/wiki/You_Were_Meant_for_Me_(Jewel_song)'],\n",
    "  'titletext': '\" Foolish Games \" / \" You Were Meant for Me \"',\n",
    "  'url': ['/wiki/Jewel_(singer)']},\n",
    " {'band_singer': ['Puff Daddy', 'Faith Evans', '112'],\n",
    "  'ranking': 3,\n",
    "  'song': [\"I'll Be Missing You\"],\n",
    "  'songurl': ['/wiki/I%27ll_Be_Missing_You'],\n",
    "  'titletext': '\" I\\'ll Be Missing You \"',\n",
    "  'url': ['/wiki/Sean_Combs', '/wiki/Faith_Evans', '/wiki/112_(band)']},\n",
    " {'band_singer': ['Toni Braxton'],\n",
    "  'ranking': 4,\n",
    "  'song': ['Un-Break My Heart'],\n",
    "  'songurl': ['/wiki/Un-Break_My_Heart'],\n",
    "  'titletext': '\" Un-Break My Heart \"',\n",
    "  'url': ['/wiki/Toni_Braxton']},\n",
    " {'band_singer': ['Puff Daddy', 'Mase'],\n",
    "  'ranking': 5,\n",
    "  'song': [\"Can't Nobody Hold Me Down\"],\n",
    "  'songurl': ['/wiki/Can%27t_Nobody_Hold_Me_Down'],\n",
    "  'titletext': '\" Can\\'t Nobody Hold Me Down \"',\n",
    "  'url': ['/wiki/Sean_Combs', '/wiki/Mase']}]\n",
    "```"
   ]
  },
  {
   "cell_type": "code",
   "execution_count": 7,
   "metadata": {
    "collapsed": true
   },
   "outputs": [],
   "source": [
    "# your code here\n",
    "\n",
    "fields = [\"ranking\", \"song\", \"songurl\", \"titletext\", \"band_singer\", \"url\"]\n",
    "\n",
    "# Helper functions.\n",
    "def get_cols(row):\n",
    "    return row.find_all(\"th\") + row.find_all(\"td\")\n",
    "\n",
    "def break_a(col):\n",
    "    return list(map(list, zip(*[(a.get(\"title\").strip('\"'), a.get(\"href\")) for a in col.find_all(\"a\")]))) \\\n",
    "            or [[col.get_text().strip('\"')], [None]]\n",
    "    \n",
    "def parse_cols(cols):\n",
    "    return [int(cols[0].get_text())] + break_a(cols[1]) + [cols[1].get_text()] + break_a(cols[2])\n",
    "\n",
    "def create_dict(cols):\n",
    "    return dict(zip(fields, cols))\n",
    "\n",
    "# Parser function.\n",
    "def parse_year(year, yearstext):\n",
    "    soup = BeautifulSoup(yearstext[year], 'html.parser')\n",
    "    rows = soup.find(\"table\", attrs={\"class\": \"wikitable\"}).find_all(\"tr\")[1:]\n",
    "    return [create_dict(parse_cols(get_cols(row))) for row in rows]"
   ]
  },
  {
   "cell_type": "code",
   "execution_count": 8,
   "metadata": {},
   "outputs": [
    {
     "data": {
      "text/plain": [
       "[{'band_singer': ['Elton John'],\n",
       "  'ranking': 1,\n",
       "  'song': ['Something About the Way You Look Tonight',\n",
       "   'Candle in the Wind 1997'],\n",
       "  'songurl': ['/wiki/Something_About_the_Way_You_Look_Tonight',\n",
       "   '/wiki/Candle_in_the_Wind_1997'],\n",
       "  'titletext': '\"Something About the Way You Look Tonight\" / \"Candle in the Wind 1997\"',\n",
       "  'url': ['/wiki/Elton_John']},\n",
       " {'band_singer': ['Jewel (singer)'],\n",
       "  'ranking': 2,\n",
       "  'song': ['Foolish Games', 'You Were Meant for Me (Jewel song)'],\n",
       "  'songurl': ['/wiki/Foolish_Games',\n",
       "   '/wiki/You_Were_Meant_for_Me_(Jewel_song)'],\n",
       "  'titletext': '\"Foolish Games\" / \"You Were Meant for Me\"',\n",
       "  'url': ['/wiki/Jewel_(singer)']},\n",
       " {'band_singer': ['Sean Combs', 'Faith Evans', '112 (band)'],\n",
       "  'ranking': 3,\n",
       "  'song': [\"I'll Be Missing You\"],\n",
       "  'songurl': ['/wiki/I%27ll_Be_Missing_You'],\n",
       "  'titletext': '\"I\\'ll Be Missing You\"',\n",
       "  'url': ['/wiki/Sean_Combs', '/wiki/Faith_Evans', '/wiki/112_(band)']},\n",
       " {'band_singer': ['Toni Braxton'],\n",
       "  'ranking': 4,\n",
       "  'song': ['Un-Break My Heart'],\n",
       "  'songurl': ['/wiki/Un-Break_My_Heart'],\n",
       "  'titletext': '\"Un-Break My Heart\"',\n",
       "  'url': ['/wiki/Toni_Braxton']},\n",
       " {'band_singer': ['Sean Combs', 'Mase'],\n",
       "  'ranking': 5,\n",
       "  'song': [\"Can't Nobody Hold Me Down\"],\n",
       "  'songurl': ['/wiki/Can%27t_Nobody_Hold_Me_Down'],\n",
       "  'titletext': '\"Can\\'t Nobody Hold Me Down\"',\n",
       "  'url': ['/wiki/Sean_Combs', '/wiki/Mase']}]"
      ]
     },
     "execution_count": 8,
     "metadata": {},
     "output_type": "execute_result"
    }
   ],
   "source": [
    "parse_year(1997, yearstext)[:5]"
   ]
  },
  {
   "cell_type": "code",
   "execution_count": 9,
   "metadata": {
    "collapsed": true
   },
   "outputs": [],
   "source": [
    "yearinfo = {y:parse_year(y, yearstext) for y in years}"
   ]
  },
  {
   "cell_type": "markdown",
   "metadata": {},
   "source": [
    "#### Save a json file of information from the scraped files"
   ]
  },
  {
   "cell_type": "markdown",
   "metadata": {},
   "source": [
    "We do not want to lose all this work, so let's save the last data structure we created to disk. That way if you need to re-run from here, you don't need to redo all these requests and parsing. \n",
    "\n",
    "DO NOT RERUN THE HTTP REQUESTS TO WIKIPEDIA WHEN SUBMITTING.\n",
    "\n",
    "*We **DO NOT** need to see these JSON files in your submission!*"
   ]
  },
  {
   "cell_type": "code",
   "execution_count": 5,
   "metadata": {
    "collapsed": true
   },
   "outputs": [],
   "source": [
    "import json"
   ]
  },
  {
   "cell_type": "code",
   "execution_count": 11,
   "metadata": {
    "collapsed": true,
    "scrolled": false
   },
   "outputs": [],
   "source": [
    "# DO NOT RERUN THIS CELL WHEN SUBMITTING\n",
    "fd = open(\"/tmp/yearinfo.json\",\"w\")\n",
    "json.dump(yearinfo, fd)\n",
    "fd.close()\n",
    "del yearinfo"
   ]
  },
  {
   "cell_type": "markdown",
   "metadata": {},
   "source": [
    "Now let's reload our JSON file into the yearinfo variable, just to be sure everything is working."
   ]
  },
  {
   "cell_type": "code",
   "execution_count": 8,
   "metadata": {},
   "outputs": [
    {
     "data": {
      "text/plain": [
       "'C:\\\\Users\\\\Goodwin.Chen\\\\a-2017\\\\Homeworks'"
      ]
     },
     "execution_count": 8,
     "metadata": {},
     "output_type": "execute_result"
    }
   ],
   "source": [
    "pwd"
   ]
  },
  {
   "cell_type": "code",
   "execution_count": 6,
   "metadata": {
    "collapsed": true,
    "scrolled": true
   },
   "outputs": [],
   "source": [
    "# RERUN WHEN SUBMITTING\n",
    "# Another way to deal with files. Has the advantage of closing the file for you.\n",
    "with open(\"data/yearinfo.json\", \"r\") as fd:\n",
    "    yearinfo = json.load(fd)"
   ]
  },
  {
   "cell_type": "markdown",
   "metadata": {},
   "source": [
    "#### 1.4 Construct a year-song-singer dataframe from the yearly information"
   ]
  },
  {
   "cell_type": "markdown",
   "metadata": {},
   "source": [
    "Let's construct a dataframe `flatframe` from the `yearinfo`. The frame should be similar to the frame below.  Each row of the frame represents a song, and carries with it the chief properties of year, song, singer, and ranking.\n",
    "\n",
    "![](https://raw.githubusercontent.com/cs109/a-2017/master/hwassets/images/HW1SC1.png)"
   ]
  },
  {
   "cell_type": "markdown",
   "metadata": {},
   "source": [
    "To construct the dataframe, we'll need to iterate over the years and the singles per year. Notice how, above, the dataframe is ordered by ranking and then year. While the exact order is up to you, note that you will have to come up with a scheme to order the information.\n",
    "\n",
    "Check that the dataframe has sensible data types. You will also likely find that the year field has become an \"object\" (Pandas treats strings as generic objects): this is due to the conversion to and back from JSON. Such conversions need special care.\n",
    "\n",
    "(As an aside, we used the name `flatframe` to indicate that this dataframe is flattened from a hierarchical dictionary structure with the keys being the years.)"
   ]
  },
  {
   "cell_type": "markdown",
   "metadata": {},
   "source": [
    "Fix any data type issues with `flatframe`. (See Pandas [astype](http://pandas.pydata.org/pandas-docs/stable/generated/pandas.DataFrame.astype.html) function.)\n",
    "\n",
    "We will use this `flatframe` in the next question."
   ]
  },
  {
   "cell_type": "markdown",
   "metadata": {},
   "source": [
    "MULTIPLE WAYS TO DO THIS. HERE IS ONE. ANOTHER WAY IS TO PUT YEAR IN EVERY DICTIONARY IN THE LIST, GET RID OF TOP LEVEL DICT, AND THEN EXPAND OUT THE SINGERS AND SONGS (CARTESIAN PRODUCT) AS BELOW."
   ]
  },
  {
   "cell_type": "code",
   "execution_count": 7,
   "metadata": {},
   "outputs": [
    {
     "data": {
      "text/plain": [
       "[{'band_singer': ['Boyz II Men'],\n",
       "  'ranking': 1,\n",
       "  'song': ['End of the Road'],\n",
       "  'songurl': ['/wiki/End_of_the_Road'],\n",
       "  'titletext': '\"End of the Road\"',\n",
       "  'url': ['/wiki/Boyz_II_Men']},\n",
       " {'band_singer': ['Sir Mix-a-Lot'],\n",
       "  'ranking': 2,\n",
       "  'song': ['Baby Got Back'],\n",
       "  'songurl': ['/wiki/Baby_Got_Back'],\n",
       "  'titletext': '\"Baby Got Back\"',\n",
       "  'url': ['/wiki/Sir_Mix-a-Lot']},\n",
       " {'band_singer': ['Kris Kross'],\n",
       "  'ranking': 3,\n",
       "  'song': ['Jump (Kris Kross song)'],\n",
       "  'songurl': ['/wiki/Jump_(Kris_Kross_song)'],\n",
       "  'titletext': '\"Jump\"',\n",
       "  'url': ['/wiki/Kris_Kross']},\n",
       " {'band_singer': ['Vanessa L. Williams'],\n",
       "  'ranking': 4,\n",
       "  'song': ['Save the Best for Last'],\n",
       "  'songurl': ['/wiki/Save_the_Best_for_Last'],\n",
       "  'titletext': '\"Save the Best for Last\"',\n",
       "  'url': ['/wiki/Vanessa_L._Williams']},\n",
       " {'band_singer': ['TLC (band)'],\n",
       "  'ranking': 5,\n",
       "  'song': ['Baby-Baby-Baby'],\n",
       "  'songurl': ['/wiki/Baby-Baby-Baby'],\n",
       "  'titletext': '\"Baby-Baby-Baby\"',\n",
       "  'url': ['/wiki/TLC_(band)']},\n",
       " {'band_singer': ['Eric Clapton'],\n",
       "  'ranking': 6,\n",
       "  'song': ['Tears in Heaven'],\n",
       "  'songurl': ['/wiki/Tears_in_Heaven'],\n",
       "  'titletext': '\"Tears in Heaven\"',\n",
       "  'url': ['/wiki/Eric_Clapton']},\n",
       " {'band_singer': ['En Vogue'],\n",
       "  'ranking': 7,\n",
       "  'song': [\"My Lovin' (You're Never Gonna Get It)\"],\n",
       "  'songurl': ['/wiki/My_Lovin%27_(You%27re_Never_Gonna_Get_It)'],\n",
       "  'titletext': '\"My Lovin\\' (You\\'re Never Gonna Get It)\"',\n",
       "  'url': ['/wiki/En_Vogue']},\n",
       " {'band_singer': ['Red Hot Chili Peppers'],\n",
       "  'ranking': 8,\n",
       "  'song': ['Under the Bridge'],\n",
       "  'songurl': ['/wiki/Under_the_Bridge'],\n",
       "  'titletext': '\"Under the Bridge\"',\n",
       "  'url': ['/wiki/Red_Hot_Chili_Peppers']},\n",
       " {'band_singer': ['Color Me Badd'],\n",
       "  'ranking': 9,\n",
       "  'song': ['All 4 Love'],\n",
       "  'songurl': ['/wiki/All_4_Love'],\n",
       "  'titletext': '\"All 4 Love\"',\n",
       "  'url': ['/wiki/Color_Me_Badd']},\n",
       " {'band_singer': ['Jon Secada'],\n",
       "  'ranking': 10,\n",
       "  'song': ['Just Another Day (Jon Secada song)'],\n",
       "  'songurl': ['/wiki/Just_Another_Day_(Jon_Secada_song)'],\n",
       "  'titletext': '\"Just Another Day\"',\n",
       "  'url': ['/wiki/Jon_Secada']},\n",
       " {'band_singer': ['Shanice'],\n",
       "  'ranking': 11,\n",
       "  'song': ['I Love Your Smile'],\n",
       "  'songurl': ['/wiki/I_Love_Your_Smile'],\n",
       "  'titletext': '\"I Love Your Smile\"',\n",
       "  'url': ['/wiki/Shanice']},\n",
       " {'band_singer': ['Mr. Big (band)'],\n",
       "  'ranking': 12,\n",
       "  'song': ['To Be with You'],\n",
       "  'songurl': ['/wiki/To_Be_with_You'],\n",
       "  'titletext': '\"To Be with You\"',\n",
       "  'url': ['/wiki/Mr._Big_(band)']},\n",
       " {'band_singer': ['Right Said Fred'],\n",
       "  'ranking': 13,\n",
       "  'song': [\"I'm Too Sexy\"],\n",
       "  'songurl': ['/wiki/I%27m_Too_Sexy'],\n",
       "  'titletext': '\"I\\'m Too Sexy\"',\n",
       "  'url': ['/wiki/Right_Said_Fred']},\n",
       " {'band_singer': ['Michael Jackson'],\n",
       "  'ranking': 14,\n",
       "  'song': ['Black or White'],\n",
       "  'songurl': ['/wiki/Black_or_White'],\n",
       "  'titletext': '\"Black or White\"',\n",
       "  'url': ['/wiki/Michael_Jackson']},\n",
       " {'band_singer': ['Billy Ray Cyrus'],\n",
       "  'ranking': 15,\n",
       "  'song': ['Achy Breaky Heart'],\n",
       "  'songurl': ['/wiki/Achy_Breaky_Heart'],\n",
       "  'titletext': '\"Achy Breaky Heart\"',\n",
       "  'url': ['/wiki/Billy_Ray_Cyrus']},\n",
       " {'band_singer': ['Mariah Carey'],\n",
       "  'ranking': 16,\n",
       "  'song': [\"I'll Be There (The Jackson 5 song)\"],\n",
       "  'songurl': ['/wiki/I%27ll_Be_There_(The_Jackson_5_song)#Mariah_Carey_version'],\n",
       "  'titletext': '\"I\\'ll Be There\"',\n",
       "  'url': ['/wiki/Mariah_Carey']},\n",
       " {'band_singer': [\"Guns N' Roses\"],\n",
       "  'ranking': 17,\n",
       "  'song': ['November Rain'],\n",
       "  'songurl': ['/wiki/November_Rain'],\n",
       "  'titletext': '\"November Rain\"',\n",
       "  'url': ['/wiki/Guns_N%27_Roses']},\n",
       " {'band_singer': ['Tom Cochrane'],\n",
       "  'ranking': 18,\n",
       "  'song': ['Life Is a Highway'],\n",
       "  'songurl': ['/wiki/Life_Is_a_Highway'],\n",
       "  'titletext': '\"Life Is a Highway\"',\n",
       "  'url': ['/wiki/Tom_Cochrane']},\n",
       " {'band_singer': ['Michael Jackson'],\n",
       "  'ranking': 19,\n",
       "  'song': ['Remember the Time'],\n",
       "  'songurl': ['/wiki/Remember_the_Time'],\n",
       "  'titletext': '\"Remember the Time\"',\n",
       "  'url': ['/wiki/Michael_Jackson']},\n",
       " {'band_singer': ['CeCe Peniston'],\n",
       "  'ranking': 20,\n",
       "  'song': ['Finally (CeCe Peniston song)'],\n",
       "  'songurl': ['/wiki/Finally_(CeCe_Peniston_song)'],\n",
       "  'titletext': '\"Finally\"',\n",
       "  'url': ['/wiki/CeCe_Peniston']},\n",
       " {'band_singer': ['Madonna (entertainer)'],\n",
       "  'ranking': 21,\n",
       "  'song': ['This Used to Be My Playground'],\n",
       "  'songurl': ['/wiki/This_Used_to_Be_My_Playground'],\n",
       "  'titletext': '\"This Used to Be My Playground\"',\n",
       "  'url': ['/wiki/Madonna_(entertainer)']},\n",
       " {'band_singer': ['Patty Smyth', 'Don Henley'],\n",
       "  'ranking': 22,\n",
       "  'song': [\"Sometimes Love Just Ain't Enough\"],\n",
       "  'songurl': ['/wiki/Sometimes_Love_Just_Ain%27t_Enough'],\n",
       "  'titletext': '\"Sometimes Love Just Ain\\'t Enough\"',\n",
       "  'url': ['/wiki/Patty_Smyth', '/wiki/Don_Henley']},\n",
       " {'band_singer': ['Mariah Carey'],\n",
       "  'ranking': 23,\n",
       "  'song': [\"Can't Let Go (Mariah Carey song)\"],\n",
       "  'songurl': ['/wiki/Can%27t_Let_Go_(Mariah_Carey_song)'],\n",
       "  'titletext': '\"Can\\'t Let Go\"',\n",
       "  'url': ['/wiki/Mariah_Carey']},\n",
       " {'band_singer': ['House of Pain'],\n",
       "  'ranking': 24,\n",
       "  'song': ['Jump Around'],\n",
       "  'songurl': ['/wiki/Jump_Around'],\n",
       "  'titletext': '\"Jump Around\"',\n",
       "  'url': ['/wiki/House_of_Pain']},\n",
       " {'band_singer': ['Prince (entertainer)', 'The New Power Generation'],\n",
       "  'ranking': 25,\n",
       "  'song': ['Diamonds and Pearls (song)'],\n",
       "  'songurl': ['/wiki/Diamonds_and_Pearls_(song)'],\n",
       "  'titletext': '\"Diamonds and Pearls\"',\n",
       "  'url': ['/wiki/Prince_(entertainer)', '/wiki/The_New_Power_Generation']},\n",
       " {'band_singer': ['George Michael', 'Elton John'],\n",
       "  'ranking': 26,\n",
       "  'song': [\"Don't Let the Sun Go Down on Me\"],\n",
       "  'songurl': ['/wiki/Don%27t_Let_the_Sun_Go_Down_on_Me'],\n",
       "  'titletext': '\"Don\\'t Let the Sun Go Down on Me\"',\n",
       "  'url': ['/wiki/George_Michael', '/wiki/Elton_John']},\n",
       " {'band_singer': ['Atlantic Starr'],\n",
       "  'ranking': 27,\n",
       "  'song': ['Masterpiece (Atlantic Starr song)'],\n",
       "  'songurl': ['/wiki/Masterpiece_(Atlantic_Starr_song)'],\n",
       "  'titletext': '\"Masterpiece\"',\n",
       "  'url': ['/wiki/Atlantic_Starr']},\n",
       " {'band_singer': ['Celine Dion'],\n",
       "  'ranking': 28,\n",
       "  'song': ['If You Asked Me To'],\n",
       "  'songurl': ['/wiki/If_You_Asked_Me_To'],\n",
       "  'titletext': '\"If You Asked Me To\"',\n",
       "  'url': ['/wiki/Celine_Dion']},\n",
       " {'band_singer': ['En Vogue'],\n",
       "  'ranking': 29,\n",
       "  'song': ['Something He Can Feel'],\n",
       "  'songurl': ['/wiki/Something_He_Can_Feel'],\n",
       "  'titletext': '\"Giving Him Something He Can Feel\"',\n",
       "  'url': ['/wiki/En_Vogue']},\n",
       " {'band_singer': ['Joe Public (band)'],\n",
       "  'ranking': 30,\n",
       "  'song': ['Live and Learn (Joe Public song)'],\n",
       "  'songurl': ['/wiki/Live_and_Learn_(Joe_Public_song)'],\n",
       "  'titletext': '\"Live and Learn\"',\n",
       "  'url': ['/wiki/Joe_Public_(band)']},\n",
       " {'band_singer': ['Jodeci'],\n",
       "  'ranking': 31,\n",
       "  'song': ['Come and Talk to Me'],\n",
       "  'songurl': ['/wiki/Come_and_Talk_to_Me'],\n",
       "  'titletext': '\"Come and Talk to Me\"',\n",
       "  'url': ['/wiki/Jodeci']},\n",
       " {'band_singer': ['Nirvana (band)'],\n",
       "  'ranking': 32,\n",
       "  'song': ['Smells Like Teen Spirit'],\n",
       "  'songurl': ['/wiki/Smells_Like_Teen_Spirit'],\n",
       "  'titletext': '\"Smells Like Teen Spirit\"',\n",
       "  'url': ['/wiki/Nirvana_(band)']},\n",
       " {'band_singer': ['Bobby Brown'],\n",
       "  'ranking': 33,\n",
       "  'song': [\"Humpin' Around\"],\n",
       "  'songurl': ['/wiki/Humpin%27_Around'],\n",
       "  'titletext': '\"Humpin\\' Around\"',\n",
       "  'url': ['/wiki/Bobby_Brown']},\n",
       " {'band_singer': ['Sophie B. Hawkins'],\n",
       "  'ranking': 34,\n",
       "  'song': ['Damn I Wish I Was Your Lover'],\n",
       "  'songurl': ['/wiki/Damn_I_Wish_I_Was_Your_Lover'],\n",
       "  'titletext': '\"Damn I Wish I Was Your Lover\"',\n",
       "  'url': ['/wiki/Sophie_B._Hawkins']},\n",
       " {'band_singer': ['Tevin Campbell'],\n",
       "  'ranking': 35,\n",
       "  'song': ['Tell Me What You Want Me to Do'],\n",
       "  'songurl': ['/wiki/Tell_Me_What_You_Want_Me_to_Do'],\n",
       "  'titletext': '\"Tell Me What You Want Me to Do\"',\n",
       "  'url': ['/wiki/Tevin_Campbell']},\n",
       " {'band_singer': ['TLC (band)'],\n",
       "  'ranking': 36,\n",
       "  'song': [\"Ain't 2 Proud 2 Beg\"],\n",
       "  'songurl': ['/wiki/Ain%27t_2_Proud_2_Beg'],\n",
       "  'titletext': '\"Ain\\'t 2 Proud 2 Beg\"',\n",
       "  'url': ['/wiki/TLC_(band)']},\n",
       " {'band_singer': ['Boyz II Men'],\n",
       "  'ranking': 37,\n",
       "  'song': [\"It's So Hard to Say Goodbye to Yesterday\"],\n",
       "  'songurl': ['/wiki/It%27s_So_Hard_to_Say_Goodbye_to_Yesterday'],\n",
       "  'titletext': '\"It\\'s So Hard to Say Goodbye to Yesterday\"',\n",
       "  'url': ['/wiki/Boyz_II_Men']},\n",
       " {'band_singer': ['Technotronic', 'Ya Kid K'],\n",
       "  'ranking': 38,\n",
       "  'song': ['Move This'],\n",
       "  'songurl': ['/wiki/Move_This'],\n",
       "  'titletext': '\"Move This\"',\n",
       "  'url': ['/wiki/Technotronic', '/wiki/Ya_Kid_K']},\n",
       " {'band_singer': ['Queen (band)'],\n",
       "  'ranking': 39,\n",
       "  'song': ['Bohemian Rhapsody'],\n",
       "  'songurl': ['/wiki/Bohemian_Rhapsody'],\n",
       "  'titletext': '\"Bohemian Rhapsody\"',\n",
       "  'url': ['/wiki/Queen_(band)']},\n",
       " {'band_singer': ['Arrested Development (group)'],\n",
       "  'ranking': 40,\n",
       "  'song': ['Tennessee (Arrested Development song)'],\n",
       "  'songurl': ['/wiki/Tennessee_(Arrested_Development_song)'],\n",
       "  'titletext': '\"Tennessee\"',\n",
       "  'url': ['/wiki/Arrested_Development_(group)']},\n",
       " {'band_singer': ['Luther Vandross', 'Janet Jackson'],\n",
       "  'ranking': 41,\n",
       "  'song': ['The Best Things in Life Are Free'],\n",
       "  'songurl': ['/wiki/The_Best_Things_in_Life_Are_Free'],\n",
       "  'titletext': '\"The Best Things in Life Are Free\"',\n",
       "  'url': ['/wiki/Luther_Vandross', '/wiki/Janet_Jackson']},\n",
       " {'band_singer': ['Mariah Carey'],\n",
       "  'ranking': 42,\n",
       "  'song': ['Make It Happen (Mariah Carey song)'],\n",
       "  'songurl': ['/wiki/Make_It_Happen_(Mariah_Carey_song)'],\n",
       "  'titletext': '\"Make It Happen\"',\n",
       "  'url': ['/wiki/Mariah_Carey']},\n",
       " {'band_singer': ['Elton John'],\n",
       "  'ranking': 43,\n",
       "  'song': ['The One (Elton John song)'],\n",
       "  'songurl': ['/wiki/The_One_(Elton_John_song)'],\n",
       "  'titletext': '\"The One\"',\n",
       "  'url': ['/wiki/Elton_John']},\n",
       " {'band_singer': ['P.M. Dawn'],\n",
       "  'ranking': 44,\n",
       "  'song': ['Set Adrift on Memory Bliss'],\n",
       "  'songurl': ['/wiki/Set_Adrift_on_Memory_Bliss'],\n",
       "  'titletext': '\"Set Adrift on Memory Bliss\"',\n",
       "  'url': ['/wiki/P.M._Dawn']},\n",
       " {'band_singer': ['Shakespears Sister'],\n",
       "  'ranking': 45,\n",
       "  'song': ['Stay (Shakespears Sister song)'],\n",
       "  'songurl': ['/wiki/Stay_(Shakespears_Sister_song)'],\n",
       "  'titletext': '\"Stay\"',\n",
       "  'url': ['/wiki/Shakespears_Sister']},\n",
       " {'band_singer': ['MC Hammer'],\n",
       "  'ranking': 46,\n",
       "  'song': ['Too Legit to Quit (song)'],\n",
       "  'songurl': ['/wiki/Too_Legit_to_Quit_(song)'],\n",
       "  'titletext': '\"2 Legit 2 Quit\"',\n",
       "  'url': ['/wiki/MC_Hammer']},\n",
       " {'band_singer': ['KWS (band)'],\n",
       "  'ranking': 47,\n",
       "  'song': [\"Please Don't Go (KC and the Sunshine Band song)\"],\n",
       "  'songurl': ['/wiki/Please_Don%27t_Go_(KC_and_the_Sunshine_Band_song)#KWS_version'],\n",
       "  'titletext': '\"Please Don\\'t Go\"',\n",
       "  'url': ['/wiki/KWS_(band)']},\n",
       " {'band_singer': ['Mint Condition'],\n",
       "  'ranking': 48,\n",
       "  'song': [\"Breakin' My Heart (Pretty Brown Eyes)\"],\n",
       "  'songurl': ['/wiki/Breakin%27_My_Heart_(Pretty_Brown_Eyes)'],\n",
       "  'titletext': '\"Breakin\\' My Heart (Pretty Brown Eyes)\"',\n",
       "  'url': ['/wiki/Mint_Condition']},\n",
       " {'band_singer': ['The Cover Girls'],\n",
       "  'ranking': 49,\n",
       "  'song': ['Wishing on a Star'],\n",
       "  'songurl': ['/wiki/Wishing_on_a_Star'],\n",
       "  'titletext': '\"Wishing on a Star\"',\n",
       "  'url': ['/wiki/The_Cover_Girls']},\n",
       " {'band_singer': ['Hi-Five'],\n",
       "  'ranking': 50,\n",
       "  'song': [\"She's Playing Hard to Get\"],\n",
       "  'songurl': [None],\n",
       "  'titletext': '\"She\\'s Playing Hard to Get\"',\n",
       "  'url': ['/wiki/Hi-Five']},\n",
       " {'band_singer': ['P.M. Dawn'],\n",
       "  'ranking': 51,\n",
       "  'song': [\"I'd Die Without You\"],\n",
       "  'songurl': ['/wiki/I%27d_Die_Without_You'],\n",
       "  'titletext': '\"I\\'d Die Without You\"',\n",
       "  'url': ['/wiki/P.M._Dawn']},\n",
       " {'band_singer': ['Amy Grant'],\n",
       "  'ranking': 52,\n",
       "  'song': ['Good for Me (song)'],\n",
       "  'songurl': ['/wiki/Good_for_Me_(song)'],\n",
       "  'titletext': '\"Good for Me\"',\n",
       "  'url': ['/wiki/Amy_Grant']},\n",
       " {'band_singer': ['Toad the Wet Sprocket'],\n",
       "  'ranking': 53,\n",
       "  'song': ['All I Want (Toad the Wet Sprocket song)'],\n",
       "  'songurl': ['/wiki/All_I_Want_(Toad_the_Wet_Sprocket_song)'],\n",
       "  'titletext': '\"All I Want\"',\n",
       "  'url': ['/wiki/Toad_the_Wet_Sprocket']},\n",
       " {'band_singer': ['Michael Bolton'],\n",
       "  'ranking': 54,\n",
       "  'song': ['When a Man Loves a Woman (song)'],\n",
       "  'songurl': ['/wiki/When_a_Man_Loves_a_Woman_(song)'],\n",
       "  'titletext': '\"When a Man Loves a Woman\"',\n",
       "  'url': ['/wiki/Michael_Bolton']},\n",
       " {'band_singer': ['Genesis (band)'],\n",
       "  'ranking': 55,\n",
       "  'song': [\"I Can't Dance\"],\n",
       "  'songurl': ['/wiki/I_Can%27t_Dance'],\n",
       "  'titletext': '\"I Can\\'t Dance\"',\n",
       "  'url': ['/wiki/Genesis_(band)']},\n",
       " {'band_singer': ['Richard Marx'],\n",
       "  'ranking': 56,\n",
       "  'song': ['Hazard (song)'],\n",
       "  'songurl': ['/wiki/Hazard_(song)'],\n",
       "  'titletext': '\"Hazard\"',\n",
       "  'url': ['/wiki/Richard_Marx']},\n",
       " {'band_singer': ['U2'],\n",
       "  'ranking': 57,\n",
       "  'song': ['Mysterious Ways (song)'],\n",
       "  'songurl': ['/wiki/Mysterious_Ways_(song)'],\n",
       "  'titletext': '\"Mysterious Ways\"',\n",
       "  'url': ['/wiki/U2']},\n",
       " {'band_singer': ['George Michael'],\n",
       "  'ranking': 58,\n",
       "  'song': ['Too Funky'],\n",
       "  'songurl': ['/wiki/Too_Funky'],\n",
       "  'titletext': '\"Too Funky\"',\n",
       "  'url': ['/wiki/George_Michael']},\n",
       " {'band_singer': ['The Heights (TV series)'],\n",
       "  'ranking': 59,\n",
       "  'song': ['How Do You Talk to an Angel'],\n",
       "  'songurl': ['/wiki/How_Do_You_Talk_to_an_Angel'],\n",
       "  'titletext': '\"How Do You Talk to an Angel\"',\n",
       "  'url': ['/wiki/The_Heights_(TV_series)']},\n",
       " {'band_singer': ['U2'],\n",
       "  'ranking': 60,\n",
       "  'song': ['One (U2 song)'],\n",
       "  'songurl': ['/wiki/One_(U2_song)'],\n",
       "  'titletext': '\"One\"',\n",
       "  'url': ['/wiki/U2']},\n",
       " {'band_singer': ['CeCe Peniston'],\n",
       "  'ranking': 61,\n",
       "  'song': [\"Keep on Walkin' (song)\"],\n",
       "  'songurl': ['/wiki/Keep_on_Walkin%27_(song)'],\n",
       "  'titletext': '\"Keep on Walkin\\'\"',\n",
       "  'url': ['/wiki/CeCe_Peniston']},\n",
       " {'band_singer': ['Genesis (band)'],\n",
       "  'ranking': 62,\n",
       "  'song': ['Hold on My Heart'],\n",
       "  'songurl': ['/wiki/Hold_on_My_Heart'],\n",
       "  'titletext': '\"Hold on My Heart\"',\n",
       "  'url': ['/wiki/Genesis_(band)']},\n",
       " {'band_singer': ['Karyn White'],\n",
       "  'ranking': 63,\n",
       "  'song': ['The Way I Feel About You'],\n",
       "  'songurl': [None],\n",
       "  'titletext': '\"The Way I Feel About You\"',\n",
       "  'url': ['/wiki/Karyn_White']},\n",
       " {'band_singer': ['Celine Dion', 'Peabo Bryson'],\n",
       "  'ranking': 64,\n",
       "  'song': ['Beauty and the Beast (Disney song)'],\n",
       "  'songurl': ['/wiki/Beauty_and_the_Beast_(Disney_song)'],\n",
       "  'titletext': '\"Beauty and the Beast\"',\n",
       "  'url': ['/wiki/Celine_Dion', '/wiki/Peabo_Bryson']},\n",
       " {'band_singer': ['Kris Kross'],\n",
       "  'ranking': 65,\n",
       "  'song': ['Warm It Up'],\n",
       "  'songurl': ['/wiki/Warm_It_Up'],\n",
       "  'titletext': '\"Warm It Up\"',\n",
       "  'url': ['/wiki/Kris_Kross']},\n",
       " {'band_singer': ['Michael Jackson'],\n",
       "  'ranking': 66,\n",
       "  'song': ['In the Closet'],\n",
       "  'songurl': ['/wiki/In_the_Closet'],\n",
       "  'titletext': '\"In the Closet\"',\n",
       "  'url': ['/wiki/Michael_Jackson']},\n",
       " {'band_singer': ['Arrested Development (group)'],\n",
       "  'ranking': 67,\n",
       "  'song': ['People Everyday'],\n",
       "  'songurl': ['/wiki/People_Everyday'],\n",
       "  'titletext': '\"People Everyday\"',\n",
       "  'url': ['/wiki/Arrested_Development_(group)']},\n",
       " {'band_singer': ['Genesis (band)'],\n",
       "  'ranking': 68,\n",
       "  'song': ['No Son of Mine'],\n",
       "  'songurl': ['/wiki/No_Son_of_Mine'],\n",
       "  'titletext': '\"No Son of Mine\"',\n",
       "  'url': ['/wiki/Genesis_(band)']},\n",
       " {'band_singer': ['Marky Mark and the Funky Bunch'],\n",
       "  'ranking': 69,\n",
       "  'song': ['Wildside (Marky Mark and the Funky Bunch song)'],\n",
       "  'songurl': ['/wiki/Wildside_(Marky_Mark_and_the_Funky_Bunch_song)'],\n",
       "  'titletext': '\"Wildside\"',\n",
       "  'url': ['/wiki/Marky_Mark_and_the_Funky_Bunch']},\n",
       " {'band_singer': ['Bryan Adams'],\n",
       "  'ranking': 70,\n",
       "  'song': ['Do I Have to Say the Words?'],\n",
       "  'songurl': ['/wiki/Do_I_Have_to_Say_the_Words%3F'],\n",
       "  'titletext': '\"Do I Have to Say the Words?\"',\n",
       "  'url': ['/wiki/Bryan_Adams']},\n",
       " {'band_singer': ['The Cure'],\n",
       "  'ranking': 71,\n",
       "  'song': [\"Friday I'm in Love\"],\n",
       "  'songurl': ['/wiki/Friday_I%27m_in_Love'],\n",
       "  'titletext': '\"Friday I\\'m in Love\"',\n",
       "  'url': ['/wiki/The_Cure']},\n",
       " {'band_singer': ['Ugly Kid Joe'],\n",
       "  'ranking': 72,\n",
       "  'song': ['Everything About You (Ugly Kid Joe song)'],\n",
       "  'songurl': ['/wiki/Everything_About_You_(Ugly_Kid_Joe_song)'],\n",
       "  'titletext': '\"Everything About You\"',\n",
       "  'url': ['/wiki/Ugly_Kid_Joe']},\n",
       " {'band_singer': ['Paula Abdul'],\n",
       "  'ranking': 73,\n",
       "  'song': ['Blowing Kisses in the Wind'],\n",
       "  'songurl': ['/wiki/Blowing_Kisses_in_the_Wind'],\n",
       "  'titletext': '\"Blowing Kisses in the Wind\"',\n",
       "  'url': ['/wiki/Paula_Abdul']},\n",
       " {'band_singer': ['Bryan Adams'],\n",
       "  'ranking': 74,\n",
       "  'song': [\"Thought I'd Died and Gone to Heaven\"],\n",
       "  'songurl': ['/wiki/Thought_I%27d_Died_and_Gone_to_Heaven'],\n",
       "  'titletext': '\"Thought I\\'d Died and Gone to Heaven\"',\n",
       "  'url': ['/wiki/Bryan_Adams']},\n",
       " {'band_singer': ['Snap!'],\n",
       "  'ranking': 75,\n",
       "  'song': ['Rhythm Is a Dancer'],\n",
       "  'songurl': ['/wiki/Rhythm_Is_a_Dancer'],\n",
       "  'titletext': '\"Rhythm Is a Dancer\"',\n",
       "  'url': ['/wiki/Snap!']},\n",
       " {'band_singer': ['MC Hammer'],\n",
       "  'ranking': 76,\n",
       "  'song': ['Addams Groove'],\n",
       "  'songurl': ['/wiki/Addams_Groove'],\n",
       "  'titletext': '\"Addams Groove\"',\n",
       "  'url': ['/wiki/MC_Hammer']},\n",
       " {'band_singer': ['Michael Bolton'],\n",
       "  'ranking': 77,\n",
       "  'song': ['Missing You Now'],\n",
       "  'songurl': ['/wiki/Missing_You_Now'],\n",
       "  'titletext': '\"Missing You Now\"',\n",
       "  'url': ['/wiki/Michael_Bolton']},\n",
       " {'band_singer': ['N2Deep'],\n",
       "  'ranking': 78,\n",
       "  'song': ['Back to the Hotel'],\n",
       "  'songurl': [None],\n",
       "  'titletext': '\"Back to the Hotel\"',\n",
       "  'url': ['/wiki/N2Deep']},\n",
       " {'band_singer': ['Kathy Troccoli'],\n",
       "  'ranking': 79,\n",
       "  'song': ['Everything Changes'],\n",
       "  'songurl': [None],\n",
       "  'titletext': '\"Everything Changes\"',\n",
       "  'url': ['/wiki/Kathy_Troccoli']},\n",
       " {'band_singer': ['Def Leppard'],\n",
       "  'ranking': 80,\n",
       "  'song': ['Have You Ever Needed Someone So Bad'],\n",
       "  'songurl': ['/wiki/Have_You_Ever_Needed_Someone_So_Bad'],\n",
       "  'titletext': '\"Have You Ever Needed Someone So Bad\"',\n",
       "  'url': ['/wiki/Def_Leppard']},\n",
       " {'band_singer': ['Richard Marx'],\n",
       "  'ranking': 81,\n",
       "  'song': ['Take This Heart'],\n",
       "  'songurl': ['/wiki/Take_This_Heart'],\n",
       "  'titletext': '\"Take This Heart\"',\n",
       "  'url': ['/wiki/Richard_Marx']},\n",
       " {'band_singer': ['FireHouse (band)'],\n",
       "  'ranking': 82,\n",
       "  'song': ['When I Look Into Your Eyes'],\n",
       "  'songurl': ['/wiki/When_I_Look_Into_Your_Eyes'],\n",
       "  'titletext': '\"When I Look Into Your Eyes\"',\n",
       "  'url': ['/wiki/FireHouse_(band)']},\n",
       " {'band_singer': ['Jade (American band)'],\n",
       "  'ranking': 83,\n",
       "  'song': ['I Wanna Love You (Jade song)'],\n",
       "  'songurl': ['/wiki/I_Wanna_Love_You_(Jade_song)'],\n",
       "  'titletext': '\"I Wanna Love You\"',\n",
       "  'url': ['/wiki/Jade_(American_band)']},\n",
       " {'band_singer': ['Boyz II Men'],\n",
       "  'ranking': 84,\n",
       "  'song': ['Uhh Ahh'],\n",
       "  'songurl': ['/wiki/Uhh_Ahh'],\n",
       "  'titletext': '\"Uhh Ahh\"',\n",
       "  'url': ['/wiki/Boyz_II_Men']},\n",
       " {'band_singer': ['Mary J. Blige'],\n",
       "  'ranking': 85,\n",
       "  'song': ['Real Love (Mary J. Blige song)'],\n",
       "  'songurl': ['/wiki/Real_Love_(Mary_J._Blige_song)'],\n",
       "  'titletext': '\"Real Love\"',\n",
       "  'url': ['/wiki/Mary_J._Blige']},\n",
       " {'band_singer': ['The KLF'],\n",
       "  'ranking': 86,\n",
       "  'song': ['Justified and Ancient'],\n",
       "  'songurl': ['/wiki/Justified_and_Ancient'],\n",
       "  'titletext': '\"Justified and Ancient\"',\n",
       "  'url': ['/wiki/The_KLF']},\n",
       " {'band_singer': ['Color Me Badd'],\n",
       "  'ranking': 87,\n",
       "  'song': ['Slow Motion'],\n",
       "  'songurl': [None],\n",
       "  'titletext': '\"Slow Motion\"',\n",
       "  'url': ['/wiki/Color_Me_Badd']},\n",
       " {'band_singer': ['TLC (band)'],\n",
       "  'ranking': 88,\n",
       "  'song': ['What About Your Friends'],\n",
       "  'songurl': ['/wiki/What_About_Your_Friends'],\n",
       "  'titletext': '\"What About Your Friends\"',\n",
       "  'url': ['/wiki/TLC_(band)']},\n",
       " {'band_singer': ['Color Me Badd'],\n",
       "  'ranking': 89,\n",
       "  'song': [\"Thinkin' Back\"],\n",
       "  'songurl': [None],\n",
       "  'titletext': '\"Thinkin\\' Back\"',\n",
       "  'url': ['/wiki/Color_Me_Badd']},\n",
       " {'band_singer': ['Charles & Eddie'],\n",
       "  'ranking': 90,\n",
       "  'song': ['Would I Lie to You? (Charles & Eddie song)'],\n",
       "  'songurl': ['/wiki/Would_I_Lie_to_You%3F_(Charles_%26_Eddie_song)'],\n",
       "  'titletext': '\"Would I Lie to You?\"',\n",
       "  'url': ['/wiki/Charles_%26_Eddie']},\n",
       " {'band_singer': ['Amy Grant'],\n",
       "  'ranking': 91,\n",
       "  'song': [\"That's What Love Is For\"],\n",
       "  'songurl': ['/wiki/That%27s_What_Love_Is_For'],\n",
       "  'titletext': '\"That\\'s What Love Is For\"',\n",
       "  'url': ['/wiki/Amy_Grant']},\n",
       " {'band_singer': ['Richard Marx'],\n",
       "  'ranking': 92,\n",
       "  'song': ['Keep Coming Back (song)'],\n",
       "  'songurl': ['/wiki/Keep_Coming_Back_(song)'],\n",
       "  'titletext': '\"Keep Coming Back\"',\n",
       "  'url': ['/wiki/Richard_Marx']},\n",
       " {'band_singer': ['En Vogue'],\n",
       "  'ranking': 93,\n",
       "  'song': ['Free Your Mind (song)'],\n",
       "  'songurl': ['/wiki/Free_Your_Mind_(song)'],\n",
       "  'titletext': '\"Free Your Mind\"',\n",
       "  'url': ['/wiki/En_Vogue']},\n",
       " {'band_singer': ['Keith Sweat'],\n",
       "  'ranking': 94,\n",
       "  'song': [\"Keep It Comin' (song)\"],\n",
       "  'songurl': ['/wiki/Keep_It_Comin%27_(song)'],\n",
       "  'titletext': '\"Keep It Comin\\'\"',\n",
       "  'url': ['/wiki/Keith_Sweat']},\n",
       " {'band_singer': ['Mr. Big (band)'],\n",
       "  'ranking': 95,\n",
       "  'song': ['Just Take My Heart'],\n",
       "  'songurl': [None],\n",
       "  'titletext': '\"Just Take My Heart\"',\n",
       "  'url': ['/wiki/Mr._Big_(band)']},\n",
       " {'band_singer': ['Amy Grant'],\n",
       "  'ranking': 96,\n",
       "  'song': ['I Will Remember You (Amy Grant song)'],\n",
       "  'songurl': ['/wiki/I_Will_Remember_You_(Amy_Grant_song)'],\n",
       "  'titletext': '\"I Will Remember You\"',\n",
       "  'url': ['/wiki/Amy_Grant']},\n",
       " {'band_singer': ['CeCe Peniston'],\n",
       "  'ranking': 97,\n",
       "  'song': ['We Got a Love Thang'],\n",
       "  'songurl': ['/wiki/We_Got_a_Love_Thang'],\n",
       "  'titletext': '\"We Got a Love Thang\"',\n",
       "  'url': ['/wiki/CeCe_Peniston']},\n",
       " {'band_singer': ['Def Leppard'],\n",
       "  'ranking': 98,\n",
       "  'song': [\"Let's Get Rocked\"],\n",
       "  'songurl': ['/wiki/Let%27s_Get_Rocked'],\n",
       "  'titletext': '\"Let\\'s Get Rocked\"',\n",
       "  'url': ['/wiki/Def_Leppard']},\n",
       " {'band_singer': ['Das EFX'],\n",
       "  'ranking': 99,\n",
       "  'song': ['They Want EFX'],\n",
       "  'songurl': ['/wiki/They_Want_EFX'],\n",
       "  'titletext': '\"They Want EFX\"',\n",
       "  'url': ['/wiki/Das_EFX']},\n",
       " {'band_singer': ['Bonnie Raitt'],\n",
       "  'ranking': 100,\n",
       "  'song': [\"I Can't Make You Love Me\"],\n",
       "  'songurl': ['/wiki/I_Can%27t_Make_You_Love_Me'],\n",
       "  'titletext': '\"I Can\\'t Make You Love Me\"',\n",
       "  'url': ['/wiki/Bonnie_Raitt']}]"
      ]
     },
     "execution_count": 7,
     "metadata": {},
     "output_type": "execute_result"
    }
   ],
   "source": [
    "yearinfo['1992']"
   ]
  },
  {
   "cell_type": "code",
   "execution_count": 8,
   "metadata": {},
   "outputs": [
    {
     "name": "stdout",
     "output_type": "stream",
     "text": [
      "1992 106\n",
      "1993 211\n",
      "1994 319\n",
      "1995 427\n",
      "1996 549\n",
      "1997 677\n",
      "1998 810\n",
      "1999 936\n",
      "2000 1050\n",
      "2001 1173\n",
      "2002 1309\n",
      "2003 1450\n",
      "2004 1586\n",
      "2005 1726\n",
      "2006 1868\n",
      "2007 2012\n",
      "2008 2151\n",
      "2009 2281\n",
      "2010 2428\n",
      "2011 2578\n",
      "2012 2709\n",
      "2013 2852\n",
      "2014 3001\n",
      "(5, 150, 23)\n"
     ]
    },
    {
     "name": "stderr",
     "output_type": "stream",
     "text": [
      "C:\\Users\\Goodwin.Chen\\AppData\\Local\\Continuum\\anaconda3\\lib\\site-packages\\ipykernel_launcher.py:22: DeprecationWarning: \n",
      "Panel is deprecated and will be removed in a future version.\n",
      "The recommended way to represent these types of 3-dimensional data are with a MultiIndex on a DataFrame, via the Panel.to_frame() method\n",
      "Alternatively, you can use the xarray package http://xarray.pydata.org/en/stable/.\n",
      "Pandas provides a `.to_xarray()` method to help automate this conversion.\n",
      "\n"
     ]
    },
    {
     "data": {
      "text/plain": [
       "(2964, 5)"
      ]
     },
     "execution_count": 8,
     "metadata": {},
     "output_type": "execute_result"
    }
   ],
   "source": [
    "yeardict={}\n",
    "count = 0\n",
    "for y in yearinfo.keys():\n",
    "    yearlist=yearinfo[y] # get list of singles for year\n",
    "    yearlist2=[]\n",
    "    for singledict in yearlist:\n",
    "        singers=singledict['band_singer']\n",
    "        for i, singer in enumerate(singers):\n",
    "            songs=singledict['song'] # generally one per single but maybe more\n",
    "            for j, song in enumerate(songs): # now inside each singer song combination\n",
    "                nd={}\n",
    "                nd['band_singer'] = singer\n",
    "                nd['url'] = singledict['url'][i]\n",
    "                nd['song'] = song\n",
    "                nd['songurl'] = singledict['songurl'][j]\n",
    "                nd['ranking'] = singledict['ranking']\n",
    "                yearlist2.append(nd)\n",
    "                count += 1\n",
    "    yeardict[y]=pd.DataFrame(yearlist2) # one for each year\n",
    "    print(y, count)\n",
    "\n",
    "yearspanel=pd.Panel.from_dict(yeardict, orient=\"minor\") # stack dataframes into a panel\n",
    "print(yearspanel.shape)\n",
    "hierframe=yearspanel.to_frame() # flattening leads to a hierarchical index\n",
    "hierframe.shape"
   ]
  },
  {
   "cell_type": "code",
   "execution_count": 9,
   "metadata": {},
   "outputs": [
    {
     "data": {
      "text/html": [
       "<div>\n",
       "<style>\n",
       "    .dataframe thead tr:only-child th {\n",
       "        text-align: right;\n",
       "    }\n",
       "\n",
       "    .dataframe thead th {\n",
       "        text-align: left;\n",
       "    }\n",
       "\n",
       "    .dataframe tbody tr th {\n",
       "        vertical-align: top;\n",
       "    }\n",
       "</style>\n",
       "<table border=\"1\" class=\"dataframe\">\n",
       "  <thead>\n",
       "    <tr style=\"text-align: right;\">\n",
       "      <th></th>\n",
       "      <th>major</th>\n",
       "      <th>minor</th>\n",
       "      <th>band_singer</th>\n",
       "      <th>ranking</th>\n",
       "      <th>song</th>\n",
       "      <th>songurl</th>\n",
       "      <th>url</th>\n",
       "    </tr>\n",
       "  </thead>\n",
       "  <tbody>\n",
       "    <tr>\n",
       "      <th>0</th>\n",
       "      <td>0</td>\n",
       "      <td>1992</td>\n",
       "      <td>Boyz II Men</td>\n",
       "      <td>1.0</td>\n",
       "      <td>End of the Road</td>\n",
       "      <td>/wiki/End_of_the_Road</td>\n",
       "      <td>/wiki/Boyz_II_Men</td>\n",
       "    </tr>\n",
       "    <tr>\n",
       "      <th>1</th>\n",
       "      <td>0</td>\n",
       "      <td>1993</td>\n",
       "      <td>Whitney Houston</td>\n",
       "      <td>1.0</td>\n",
       "      <td>I Will Always Love You</td>\n",
       "      <td>/wiki/I_Will_Always_Love_You#Whitney_Houston_v...</td>\n",
       "      <td>/wiki/Whitney_Houston</td>\n",
       "    </tr>\n",
       "    <tr>\n",
       "      <th>2</th>\n",
       "      <td>0</td>\n",
       "      <td>1994</td>\n",
       "      <td>Ace of Base</td>\n",
       "      <td>1.0</td>\n",
       "      <td>The Sign (song)</td>\n",
       "      <td>/wiki/The_Sign_(song)</td>\n",
       "      <td>/wiki/Ace_of_Base</td>\n",
       "    </tr>\n",
       "    <tr>\n",
       "      <th>3</th>\n",
       "      <td>0</td>\n",
       "      <td>1995</td>\n",
       "      <td>Coolio</td>\n",
       "      <td>1.0</td>\n",
       "      <td>Gangsta's Paradise</td>\n",
       "      <td>/wiki/Gangsta%27s_Paradise</td>\n",
       "      <td>/wiki/Coolio</td>\n",
       "    </tr>\n",
       "    <tr>\n",
       "      <th>4</th>\n",
       "      <td>0</td>\n",
       "      <td>1996</td>\n",
       "      <td>Los del Río</td>\n",
       "      <td>1.0</td>\n",
       "      <td>Macarena (song)</td>\n",
       "      <td>/wiki/Macarena_(song)</td>\n",
       "      <td>/wiki/Los_del_R%C3%ADo</td>\n",
       "    </tr>\n",
       "  </tbody>\n",
       "</table>\n",
       "</div>"
      ],
      "text/plain": [
       "   major minor      band_singer  ranking                    song                                            songurl                     url\n",
       "0      0  1992      Boyz II Men      1.0         End of the Road                              /wiki/End_of_the_Road       /wiki/Boyz_II_Men\n",
       "1      0  1993  Whitney Houston      1.0  I Will Always Love You  /wiki/I_Will_Always_Love_You#Whitney_Houston_v...   /wiki/Whitney_Houston\n",
       "2      0  1994      Ace of Base      1.0         The Sign (song)                              /wiki/The_Sign_(song)       /wiki/Ace_of_Base\n",
       "3      0  1995           Coolio      1.0      Gangsta's Paradise                         /wiki/Gangsta%27s_Paradise            /wiki/Coolio\n",
       "4      0  1996      Los del Río      1.0         Macarena (song)                              /wiki/Macarena_(song)  /wiki/Los_del_R%C3%ADo"
      ]
     },
     "execution_count": 9,
     "metadata": {},
     "output_type": "execute_result"
    }
   ],
   "source": [
    "flatframe = hierframe.reset_index()\n",
    "flatframe.head()"
   ]
  },
  {
   "cell_type": "code",
   "execution_count": 10,
   "metadata": {},
   "outputs": [
    {
     "data": {
      "text/html": [
       "<div>\n",
       "<style>\n",
       "    .dataframe thead tr:only-child th {\n",
       "        text-align: right;\n",
       "    }\n",
       "\n",
       "    .dataframe thead th {\n",
       "        text-align: left;\n",
       "    }\n",
       "\n",
       "    .dataframe tbody tr th {\n",
       "        vertical-align: top;\n",
       "    }\n",
       "</style>\n",
       "<table border=\"1\" class=\"dataframe\">\n",
       "  <thead>\n",
       "    <tr style=\"text-align: right;\">\n",
       "      <th></th>\n",
       "      <th>year</th>\n",
       "      <th>band_singer</th>\n",
       "      <th>ranking</th>\n",
       "      <th>song</th>\n",
       "      <th>songurl</th>\n",
       "      <th>url</th>\n",
       "    </tr>\n",
       "  </thead>\n",
       "  <tbody>\n",
       "    <tr>\n",
       "      <th>0</th>\n",
       "      <td>1992</td>\n",
       "      <td>Boyz II Men</td>\n",
       "      <td>1.0</td>\n",
       "      <td>End of the Road</td>\n",
       "      <td>/wiki/End_of_the_Road</td>\n",
       "      <td>/wiki/Boyz_II_Men</td>\n",
       "    </tr>\n",
       "    <tr>\n",
       "      <th>1</th>\n",
       "      <td>1993</td>\n",
       "      <td>Whitney Houston</td>\n",
       "      <td>1.0</td>\n",
       "      <td>I Will Always Love You</td>\n",
       "      <td>/wiki/I_Will_Always_Love_You#Whitney_Houston_v...</td>\n",
       "      <td>/wiki/Whitney_Houston</td>\n",
       "    </tr>\n",
       "    <tr>\n",
       "      <th>2</th>\n",
       "      <td>1994</td>\n",
       "      <td>Ace of Base</td>\n",
       "      <td>1.0</td>\n",
       "      <td>The Sign (song)</td>\n",
       "      <td>/wiki/The_Sign_(song)</td>\n",
       "      <td>/wiki/Ace_of_Base</td>\n",
       "    </tr>\n",
       "    <tr>\n",
       "      <th>3</th>\n",
       "      <td>1995</td>\n",
       "      <td>Coolio</td>\n",
       "      <td>1.0</td>\n",
       "      <td>Gangsta's Paradise</td>\n",
       "      <td>/wiki/Gangsta%27s_Paradise</td>\n",
       "      <td>/wiki/Coolio</td>\n",
       "    </tr>\n",
       "    <tr>\n",
       "      <th>4</th>\n",
       "      <td>1996</td>\n",
       "      <td>Los del Río</td>\n",
       "      <td>1.0</td>\n",
       "      <td>Macarena (song)</td>\n",
       "      <td>/wiki/Macarena_(song)</td>\n",
       "      <td>/wiki/Los_del_R%C3%ADo</td>\n",
       "    </tr>\n",
       "    <tr>\n",
       "      <th>5</th>\n",
       "      <td>1997</td>\n",
       "      <td>Elton John</td>\n",
       "      <td>1.0</td>\n",
       "      <td>Something About the Way You Look Tonight</td>\n",
       "      <td>/wiki/Something_About_the_Way_You_Look_Tonight</td>\n",
       "      <td>/wiki/Elton_John</td>\n",
       "    </tr>\n",
       "    <tr>\n",
       "      <th>6</th>\n",
       "      <td>1998</td>\n",
       "      <td>Next (group)</td>\n",
       "      <td>1.0</td>\n",
       "      <td>Too Close (Next song)</td>\n",
       "      <td>/wiki/Too_Close_(Next_song)</td>\n",
       "      <td>/wiki/Next_(group)</td>\n",
       "    </tr>\n",
       "    <tr>\n",
       "      <th>7</th>\n",
       "      <td>1999</td>\n",
       "      <td>Cher</td>\n",
       "      <td>1.0</td>\n",
       "      <td>Believe (Cher song)</td>\n",
       "      <td>/wiki/Believe_(Cher_song)</td>\n",
       "      <td>/wiki/Cher</td>\n",
       "    </tr>\n",
       "  </tbody>\n",
       "</table>\n",
       "</div>"
      ],
      "text/plain": [
       "   year      band_singer  ranking                                      song                                            songurl                     url\n",
       "0  1992      Boyz II Men      1.0                           End of the Road                              /wiki/End_of_the_Road       /wiki/Boyz_II_Men\n",
       "1  1993  Whitney Houston      1.0                    I Will Always Love You  /wiki/I_Will_Always_Love_You#Whitney_Houston_v...   /wiki/Whitney_Houston\n",
       "2  1994      Ace of Base      1.0                           The Sign (song)                              /wiki/The_Sign_(song)       /wiki/Ace_of_Base\n",
       "3  1995           Coolio      1.0                        Gangsta's Paradise                         /wiki/Gangsta%27s_Paradise            /wiki/Coolio\n",
       "4  1996      Los del Río      1.0                           Macarena (song)                              /wiki/Macarena_(song)  /wiki/Los_del_R%C3%ADo\n",
       "5  1997       Elton John      1.0  Something About the Way You Look Tonight     /wiki/Something_About_the_Way_You_Look_Tonight        /wiki/Elton_John\n",
       "6  1998     Next (group)      1.0                     Too Close (Next song)                        /wiki/Too_Close_(Next_song)      /wiki/Next_(group)\n",
       "7  1999             Cher      1.0                       Believe (Cher song)                          /wiki/Believe_(Cher_song)              /wiki/Cher"
      ]
     },
     "execution_count": 10,
     "metadata": {},
     "output_type": "execute_result"
    }
   ],
   "source": [
    "flatframe = flatframe.rename(columns={'minor':'year'})\n",
    "del flatframe['major']\n",
    "flatframe.head(8)"
   ]
  },
  {
   "cell_type": "code",
   "execution_count": 11,
   "metadata": {},
   "outputs": [
    {
     "data": {
      "text/plain": [
       "year            object\n",
       "band_singer     object\n",
       "ranking        float64\n",
       "song            object\n",
       "songurl         object\n",
       "url             object\n",
       "dtype: object"
      ]
     },
     "execution_count": 11,
     "metadata": {},
     "output_type": "execute_result"
    }
   ],
   "source": [
    "flatframe.dtypes"
   ]
  },
  {
   "cell_type": "code",
   "execution_count": 12,
   "metadata": {},
   "outputs": [
    {
     "data": {
      "text/plain": [
       "year             int32\n",
       "band_singer     object\n",
       "ranking        float64\n",
       "song            object\n",
       "songurl         object\n",
       "url             object\n",
       "dtype: object"
      ]
     },
     "execution_count": 12,
     "metadata": {},
     "output_type": "execute_result"
    }
   ],
   "source": [
    "flatframe.year = flatframe.year.astype(int)\n",
    "flatframe.dtypes"
   ]
  },
  {
   "cell_type": "code",
   "execution_count": 13,
   "metadata": {},
   "outputs": [
    {
     "data": {
      "text/plain": [
       "year           2964\n",
       "band_singer    2964\n",
       "ranking        2964\n",
       "song           2964\n",
       "songurl        2964\n",
       "url            2964\n",
       "dtype: int64"
      ]
     },
     "execution_count": 13,
     "metadata": {},
     "output_type": "execute_result"
    }
   ],
   "source": [
    "flatframe.notnull().sum()"
   ]
  },
  {
   "cell_type": "code",
   "execution_count": 14,
   "metadata": {},
   "outputs": [
    {
     "data": {
      "text/plain": [
       "(2964, 6)"
      ]
     },
     "execution_count": 14,
     "metadata": {},
     "output_type": "execute_result"
    }
   ],
   "source": [
    "flatframe.shape"
   ]
  },
  {
   "cell_type": "code",
   "execution_count": 15,
   "metadata": {
    "collapsed": true
   },
   "outputs": [],
   "source": [
    "test = {}\n",
    "test[None] = 0"
   ]
  },
  {
   "cell_type": "markdown",
   "metadata": {},
   "source": [
    "### Who are the highest quality singers?"
   ]
  },
  {
   "cell_type": "markdown",
   "metadata": {},
   "source": [
    "Here we show the highest quality singers and plot them on a bar chart.\n",
    "\n",
    "#### 1.5 Find highest quality singers according to how prolific they are\n",
    "\n",
    "What do we mean by highest quality? This is of course open to interpretation, but let's define \"highest quality\" here as the number of times a singer appears in the top 100 over this time period. If a singer appears twice in a year (for different songs), this is counted as two appearances, not one. \n",
    "\n",
    "Make a bar-plot of the most prolific singers. Singers on this chart should have appeared at-least more than 15 times. (HINT: look at the docs for the pandas method `value_counts`.)\n"
   ]
  },
  {
   "cell_type": "code",
   "execution_count": 16,
   "metadata": {},
   "outputs": [
    {
     "data": {
      "image/png": "[encoded data removed]",
      "text/plain": [
       "<matplotlib.figure.Figure at 0x1dacde0cf28>"
      ]
     },
     "metadata": {},
     "output_type": "display_data"
    }
   ],
   "source": [
    "prolific=flatframe.url.value_counts()\n",
    "prolific[prolific > 15].plot.bar();"
   ]
  },
  {
   "cell_type": "markdown",
   "metadata": {},
   "source": [
    "#### 1.6 What if we used a different metric?"
   ]
  },
  {
   "cell_type": "markdown",
   "metadata": {},
   "source": [
    "What we would like to capture is this: a singer should to be scored higher if the singer appears higher in the rankings. So we'd say that a singer who appeared once at a higher and once at a lower ranking is a \"higher quality\" singer than one who appeared twice at a lower ranking. \n",
    "\n",
    "To do this, group all of a singers songs together and assign each song a score `101 - ranking`. Order the singers by their total score and make a bar chart for the top 20.\n"
   ]
  },
  {
   "cell_type": "code",
   "execution_count": 17,
   "metadata": {},
   "outputs": [
    {
     "data": {
      "text/plain": [
       "url\n",
       "/wiki/%27N_Sync                    423.0\n",
       "/wiki/10,000_Maniacs                61.0\n",
       "/wiki/112_(band)                   476.0\n",
       "/wiki/20_Fingers                    25.0\n",
       "/wiki/2Pac                         168.0\n",
       "/wiki/2_Chainz                     278.0\n",
       "/wiki/2_Pistols                      1.0\n",
       "/wiki/3LW                           32.0\n",
       "/wiki/3OH!3                        149.0\n",
       "/wiki/3T                            58.0\n",
       "/wiki/3_Doors_Down                 481.0\n",
       "/wiki/4_Non_Blondes                 51.0\n",
       "/wiki/4_P.M._(group)                53.0\n",
       "/wiki/50_Cent                      982.0\n",
       "/wiki/5_Seconds_of_Summer           23.0\n",
       "/wiki/69_Boyz                       74.0\n",
       "/wiki/702_(band)                   176.0\n",
       "/wiki/8Ball_%26_MJG                  9.0\n",
       "/wiki/95_South                      57.0\n",
       "/wiki/98_Degrees                   304.0\n",
       "/wiki/A$AP_Rocky                    60.0\n",
       "/wiki/AZ_(rapper)                   17.0\n",
       "/wiki/A_Great_Big_World             84.0\n",
       "/wiki/Aaliyah                      476.0\n",
       "/wiki/Aaron_Hall_(musician)         44.0\n",
       "/wiki/Ace_Hood                      10.0\n",
       "/wiki/Ace_of_Base                  375.0\n",
       "/wiki/Adam_Clayton                  35.0\n",
       "/wiki/Adam_Lambert                  56.0\n",
       "/wiki/Adam_Levine                  105.0\n",
       "                                   ...  \n",
       "/wiki/Westlife                      26.0\n",
       "/wiki/White_Town                    36.0\n",
       "/wiki/Whitney_Houston              679.0\n",
       "/wiki/Will.i.am                    337.0\n",
       "/wiki/Will_Smith                   276.0\n",
       "/wiki/Willa_Ford                    17.0\n",
       "/wiki/Willie_Nelson                 26.0\n",
       "/wiki/Wiz_Khalifa                  335.0\n",
       "/wiki/Wreckx-n-Effect               92.0\n",
       "/wiki/Wyclef_Jean                  209.0\n",
       "/wiki/Wynter_Gordon                 43.0\n",
       "/wiki/Xscape_(band)                200.0\n",
       "/wiki/YG_(rapper)                  102.0\n",
       "/wiki/Ya_Kid_K                      63.0\n",
       "/wiki/Yanou                         70.0\n",
       "/wiki/Ying_Yang_Twins              276.0\n",
       "/wiki/Ylvis                         28.0\n",
       "/wiki/YoungBloodZ                  210.0\n",
       "/wiki/Young_Buck                     9.0\n",
       "/wiki/Young_Dro                     42.0\n",
       "/wiki/Young_Gunz                    16.0\n",
       "/wiki/Young_Jeezy                  261.0\n",
       "/wiki/Young_Money                   88.0\n",
       "/wiki/Young_Money_Entertainment     34.0\n",
       "/wiki/Young_Thug                    29.0\n",
       "/wiki/Yung_Berg                     90.0\n",
       "/wiki/Yung_Joc                     232.0\n",
       "/wiki/Zac_Brown_Band                50.0\n",
       "/wiki/Zedd_(musician)              148.0\n",
       "/wiki/Zhan%C3%A9                    75.0\n",
       "Length: 1029, dtype: float64"
      ]
     },
     "execution_count": 17,
     "metadata": {},
     "output_type": "execute_result"
    }
   ],
   "source": [
    "test1 = flatframe.groupby('url').apply(lambda x: np.sum(101-x['ranking']))\n",
    "test1"
   ]
  },
  {
   "cell_type": "code",
   "execution_count": 18,
   "metadata": {},
   "outputs": [
    {
     "data": {
      "image/png": "[encoded data removed]",
      "text/plain": [
       "<matplotlib.figure.Figure at 0x1dacdf88a58>"
      ]
     },
     "metadata": {},
     "output_type": "display_data"
    }
   ],
   "source": [
    "scores = flatframe.groupby('url').apply(lambda v: np.sum(101 - v['ranking']))\n",
    "scores= scores.sort_values(ascending=False)\n",
    "scores[:20].plot(kind=\"barh\");"
   ]
  },
  {
   "cell_type": "markdown",
   "metadata": {},
   "source": [
    "#### 1.7 Do you notice any major differences when you change the metric?\n",
    "\n",
    "How have the singers at the top shifted places? Why do you think this happens?"
   ]
  },
  {
   "cell_type": "markdown",
   "metadata": {},
   "source": [
    "*your answer here*\n",
    "\n",
    "It seems Lil Wayne appeared in the top 100 many many times (31 times) but got beat out in terms of rankings by both Usher and Mariah Carey. Now we're in a position to answer the question that was posed in the beginning of this assignment -- who is a *better* singer, Mariah Carey or Rihanna? Well, it turns out Rihanna is more *prolific* by our definition, by quite a lot. So based on our analysis we have to give the title to Rihanna. "
   ]
  },
  {
   "cell_type": "markdown",
   "metadata": {},
   "source": [
    "## Q2. Scraping and Constructing: Information about Artists, Bands and Genres from Wikipedia"
   ]
  },
  {
   "cell_type": "markdown",
   "metadata": {},
   "source": [
    "Our next job is to use those band/singer urls we collected under `flatframe.url` and get information about singers and/or bands."
   ]
  },
  {
   "cell_type": "markdown",
   "metadata": {},
   "source": [
    "### Scrape information about artists from wikipedia"
   ]
  },
  {
   "cell_type": "markdown",
   "metadata": {},
   "source": [
    "We wish to fetch information about the singers or groups for all the winning songs in a list of years.\n",
    "\n",
    "Here we show a function that fetches information about a singer or group from their url on wikipedia. We create a cache object `urlcache` that will avoid redundant HTTP requests (e.g. an artist might have multiple singles on a single year, or be on the list over a span of years). Once we have fetched information about an artist, we don't need to do it again. The caching also helps if the network goes down, or the target website is having some problems. You simply need to run the `get_page` function below again, and the `urlcache` dictionary will continue to be filled.\n",
    "\n",
    "If the request gets an HTTP return code different from 200, (such as a 404 not found or 500 Internal Server Error) the cells for that URL will have a value of 1; and if the request completely fails (e.g. no network connection) the cell will have a value of 2. This will allow you to analyse the failed requests.\n",
    "\n",
    "Notice that we have wrapped the call in whats called _an exception block_. We try to make the request. If it fails entirely, or returns a HTTP code thats not 200, we set the status to 2 and 1 respectively."
   ]
  },
  {
   "cell_type": "code",
   "execution_count": 19,
   "metadata": {
    "collapsed": true,
    "scrolled": true
   },
   "outputs": [],
   "source": [
    "urlcache={}\n"
   ]
  },
  {
   "cell_type": "code",
   "execution_count": 99,
   "metadata": {
    "collapsed": true,
    "scrolled": true
   },
   "outputs": [],
   "source": [
    "def get_page(url):\n",
    "    # Check if URL has already been visited.\n",
    "    if (url not in urlcache) or (urlcache[url]==1) or (urlcache[url]==2):\n",
    "        time.sleep(1)\n",
    "        # try/except blocks are used whenever the code could generate an exception (e.g. division by zero).\n",
    "        # In this case we don't know if the page really exists, or even if it does, if we'll be able to reach it.\n",
    "        try:\n",
    "            r = requests.get(\"http://en.wikipedia.org%s\" % url)\n",
    "\n",
    "            if r.status_code == 200:\n",
    "                urlcache[url] = r.text\n",
    "            else:\n",
    "                urlcache[url] = 1\n",
    "        except:\n",
    "            urlcache[url] = 2\n",
    "    return urlcache[url]\n"
   ]
  },
  {
   "cell_type": "markdown",
   "metadata": {},
   "source": [
    "We sort the `flatframe` by year, ascending, first. Think why."
   ]
  },
  {
   "cell_type": "code",
   "execution_count": 21,
   "metadata": {
    "scrolled": true
   },
   "outputs": [
    {
     "data": {
      "text/html": [
       "<div>\n",
       "<style>\n",
       "    .dataframe thead tr:only-child th {\n",
       "        text-align: right;\n",
       "    }\n",
       "\n",
       "    .dataframe thead th {\n",
       "        text-align: left;\n",
       "    }\n",
       "\n",
       "    .dataframe tbody tr th {\n",
       "        vertical-align: top;\n",
       "    }\n",
       "</style>\n",
       "<table border=\"1\" class=\"dataframe\">\n",
       "  <thead>\n",
       "    <tr style=\"text-align: right;\">\n",
       "      <th></th>\n",
       "      <th>year</th>\n",
       "      <th>band_singer</th>\n",
       "      <th>ranking</th>\n",
       "      <th>song</th>\n",
       "      <th>songurl</th>\n",
       "      <th>url</th>\n",
       "    </tr>\n",
       "  </thead>\n",
       "  <tbody>\n",
       "    <tr>\n",
       "      <th>0</th>\n",
       "      <td>1992</td>\n",
       "      <td>Boyz II Men</td>\n",
       "      <td>1.0</td>\n",
       "      <td>End of the Road</td>\n",
       "      <td>/wiki/End_of_the_Road</td>\n",
       "      <td>/wiki/Boyz_II_Men</td>\n",
       "    </tr>\n",
       "    <tr>\n",
       "      <th>943</th>\n",
       "      <td>1992</td>\n",
       "      <td>Ya Kid K</td>\n",
       "      <td>38.0</td>\n",
       "      <td>Move This</td>\n",
       "      <td>/wiki/Move_This</td>\n",
       "      <td>/wiki/Ya_Kid_K</td>\n",
       "    </tr>\n",
       "    <tr>\n",
       "      <th>965</th>\n",
       "      <td>1992</td>\n",
       "      <td>Queen (band)</td>\n",
       "      <td>39.0</td>\n",
       "      <td>Bohemian Rhapsody</td>\n",
       "      <td>/wiki/Bohemian_Rhapsody</td>\n",
       "      <td>/wiki/Queen_(band)</td>\n",
       "    </tr>\n",
       "    <tr>\n",
       "      <th>988</th>\n",
       "      <td>1992</td>\n",
       "      <td>Arrested Development (group)</td>\n",
       "      <td>40.0</td>\n",
       "      <td>Tennessee (Arrested Development song)</td>\n",
       "      <td>/wiki/Tennessee_(Arrested_Development_song)</td>\n",
       "      <td>/wiki/Arrested_Development_(group)</td>\n",
       "    </tr>\n",
       "    <tr>\n",
       "      <th>1011</th>\n",
       "      <td>1992</td>\n",
       "      <td>Luther Vandross</td>\n",
       "      <td>41.0</td>\n",
       "      <td>The Best Things in Life Are Free</td>\n",
       "      <td>/wiki/The_Best_Things_in_Life_Are_Free</td>\n",
       "      <td>/wiki/Luther_Vandross</td>\n",
       "    </tr>\n",
       "  </tbody>\n",
       "</table>\n",
       "</div>"
      ],
      "text/plain": [
       "      year                   band_singer  ranking                                   song                                      songurl                                 url\n",
       "0     1992                   Boyz II Men      1.0                        End of the Road                        /wiki/End_of_the_Road                   /wiki/Boyz_II_Men\n",
       "943   1992                      Ya Kid K     38.0                              Move This                              /wiki/Move_This                      /wiki/Ya_Kid_K\n",
       "965   1992                  Queen (band)     39.0                      Bohemian Rhapsody                      /wiki/Bohemian_Rhapsody                  /wiki/Queen_(band)\n",
       "988   1992  Arrested Development (group)     40.0  Tennessee (Arrested Development song)  /wiki/Tennessee_(Arrested_Development_song)  /wiki/Arrested_Development_(group)\n",
       "1011  1992               Luther Vandross     41.0       The Best Things in Life Are Free       /wiki/The_Best_Things_in_Life_Are_Free               /wiki/Luther_Vandross"
      ]
     },
     "execution_count": 21,
     "metadata": {},
     "output_type": "execute_result"
    }
   ],
   "source": [
    "flatframe=flatframe.sort_values('year')\n",
    "flatframe.head()"
   ]
  },
  {
   "cell_type": "markdown",
   "metadata": {},
   "source": [
    "#### Pulling and saving the data"
   ]
  },
  {
   "cell_type": "code",
   "execution_count": 22,
   "metadata": {
    "scrolled": true
   },
   "outputs": [
    {
     "data": {
      "text/plain": [
       "0       <!DOCTYPE html>\\n<html class=\"client-nojs\" lan...\n",
       "943     <!DOCTYPE html>\\n<html class=\"client-nojs\" lan...\n",
       "965     <!DOCTYPE html>\\n<html class=\"client-nojs\" lan...\n",
       "988     <!DOCTYPE html>\\n<html class=\"client-nojs\" lan...\n",
       "1011    <!DOCTYPE html>\\n<html class=\"client-nojs\" lan...\n",
       "1034    <!DOCTYPE html>\\n<html class=\"client-nojs\" lan...\n",
       "115     <!DOCTYPE html>\\n<html class=\"client-nojs\" lan...\n",
       "1057    <!DOCTYPE html>\\n<html class=\"client-nojs\" lan...\n",
       "1080    <!DOCTYPE html>\\n<html class=\"client-nojs\" lan...\n",
       "1103    <!DOCTYPE html>\\n<html class=\"client-nojs\" lan...\n",
       "1126    <!DOCTYPE html>\\n<html class=\"client-nojs\" lan...\n",
       "1149    <!DOCTYPE html>\\n<html class=\"client-nojs\" lan...\n",
       "2391    <!DOCTYPE html>\\n<html class=\"client-nojs\" lan...\n",
       "1171    <!DOCTYPE html>\\n<html class=\"client-nojs\" lan...\n",
       "1194    <!DOCTYPE html>\\n<html class=\"client-nojs\" lan...\n",
       "2368    <!DOCTYPE html>\\n<html class=\"client-nojs\" lan...\n",
       "1217    <!DOCTYPE html>\\n<html class=\"client-nojs\" lan...\n",
       "92      <!DOCTYPE html>\\n<html class=\"client-nojs\" lan...\n",
       "2345    <!DOCTYPE html>\\n<html class=\"client-nojs\" lan...\n",
       "1284    <!DOCTYPE html>\\n<html class=\"client-nojs\" lan...\n",
       "1307    <!DOCTYPE html>\\n<html class=\"client-nojs\" lan...\n",
       "2322    <!DOCTYPE html>\\n<html class=\"client-nojs\" lan...\n",
       "1329    <!DOCTYPE html>\\n<html class=\"client-nojs\" lan...\n",
       "1352    <!DOCTYPE html>\\n<html class=\"client-nojs\" lan...\n",
       "1375    <!DOCTYPE html>\\n<html class=\"client-nojs\" lan...\n",
       "2299    <!DOCTYPE html>\\n<html class=\"client-nojs\" lan...\n",
       "1397    <!DOCTYPE html>\\n<html class=\"client-nojs\" lan...\n",
       "1420    <!DOCTYPE html>\\n<html class=\"client-nojs\" lan...\n",
       "1442    <!DOCTYPE html>\\n<html class=\"client-nojs\" lan...\n",
       "1465    <!DOCTYPE html>\\n<html class=\"client-nojs\" lan...\n",
       "                              ...                        \n",
       "2809    <!DOCTYPE html>\\n<html class=\"client-nojs\" lan...\n",
       "1782    <!DOCTYPE html>\\n<html class=\"client-nojs\" lan...\n",
       "2210    <!DOCTYPE html>\\n<html class=\"client-nojs\" lan...\n",
       "367     <!DOCTYPE html>\\n<html class=\"client-nojs\" lan...\n",
       "1396    <!DOCTYPE html>\\n<html class=\"client-nojs\" lan...\n",
       "505     <!DOCTYPE html>\\n<html class=\"client-nojs\" lan...\n",
       "1419    <!DOCTYPE html>\\n<html class=\"client-nojs\" lan...\n",
       "2276    <!DOCTYPE html>\\n<html class=\"client-nojs\" lan...\n",
       "2686    <!DOCTYPE html>\\n<html class=\"client-nojs\" lan...\n",
       "482     <!DOCTYPE html>\\n<html class=\"client-nojs\" lan...\n",
       "1441    <!DOCTYPE html>\\n<html class=\"client-nojs\" lan...\n",
       "2703    <!DOCTYPE html>\\n<html class=\"client-nojs\" lan...\n",
       "1464    <!DOCTYPE html>\\n<html class=\"client-nojs\" lan...\n",
       "2962    <!DOCTYPE html>\\n<html class=\"client-nojs\" lan...\n",
       "459     <!DOCTYPE html>\\n<html class=\"client-nojs\" lan...\n",
       "1577    <!DOCTYPE html>\\n<html class=\"client-nojs\" lan...\n",
       "2254    <!DOCTYPE html>\\n<html class=\"client-nojs\" lan...\n",
       "2472    <!DOCTYPE html>\\n<html class=\"client-nojs\" lan...\n",
       "2719    <!DOCTYPE html>\\n<html class=\"client-nojs\" lan...\n",
       "1487    <!DOCTYPE html>\\n<html class=\"client-nojs\" lan...\n",
       "413     <!DOCTYPE html>\\n<html class=\"client-nojs\" lan...\n",
       "1510    <!DOCTYPE html>\\n<html class=\"client-nojs\" lan...\n",
       "2734    <!DOCTYPE html>\\n<html class=\"client-nojs\" lan...\n",
       "1533    <!DOCTYPE html>\\n<html class=\"client-nojs\" lan...\n",
       "2232    <!DOCTYPE html>\\n<html class=\"client-nojs\" lan...\n",
       "390     <!DOCTYPE html>\\n<html class=\"client-nojs\" lan...\n",
       "1555    <!DOCTYPE html>\\n<html class=\"client-nojs\" lan...\n",
       "2750    <!DOCTYPE html>\\n<html class=\"client-nojs\" lan...\n",
       "436     <!DOCTYPE html>\\n<html class=\"client-nojs\" lan...\n",
       "919     <!DOCTYPE html>\\n<html class=\"client-nojs\" lan...\n",
       "Name: url, Length: 2964, dtype: object"
      ]
     },
     "execution_count": 22,
     "metadata": {},
     "output_type": "execute_result"
    }
   ],
   "source": [
    "# DO NOT RERUN THIS CELL WHEN SUBMITTING\n",
    "# Here we are populating the url cache\n",
    "# subsequent calls to this cell should be very fast, since Python won't\n",
    "# need to fetch the page from the web server.\n",
    "# NOTE this function will take quite some time to run (about 30 mins for me), since we sleep 1 second before\n",
    "# making a request. If you run it again it will be almost instantaneous, save requests that might have failed\n",
    "# (you will need to run it again if requests fail..see cell below for how to test this)\n",
    "flatframe[\"url\"].apply(get_page)"
   ]
  },
  {
   "cell_type": "markdown",
   "metadata": {},
   "source": [
    "You may have to run this function again and again, in case there were network problems. Note that, because there is a \"global\" cache, it will take less time each time you run it. Also note that this function is designed to be run again and again: it attempts to make sure that there are no unresolved pages remaining. Let us make sure of this: *the sum below should be 0, and the boolean True.*"
   ]
  },
  {
   "cell_type": "code",
   "execution_count": 23,
   "metadata": {
    "scrolled": true
   },
   "outputs": [
    {
     "name": "stdout",
     "output_type": "stream",
     "text": [
      "Number of bad requests: 0\n",
      "Did we get all urls? True\n"
     ]
    }
   ],
   "source": [
    "# DO NOT RERUN THIS CELL WHEN SUBMITTING\n",
    "print(\"Number of bad requests:\",np.sum([(urlcache[k]==1) or (urlcache[k]==2) for k in urlcache])) # no one or 0's)\n",
    "print(\"Did we get all urls?\", len(flatframe.url.unique())==len(urlcache)) # we got all of the urls"
   ]
  },
  {
   "cell_type": "markdown",
   "metadata": {},
   "source": [
    "Let's save the `urlcache` to disk, just in case we need it again."
   ]
  },
  {
   "cell_type": "code",
   "execution_count": 98,
   "metadata": {},
   "outputs": [
    {
     "ename": "NameError",
     "evalue": "name 'urlcache' is not defined",
     "output_type": "error",
     "traceback": [
      "\u001b[1;31m---------------------------------------------------------------------------\u001b[0m",
      "\u001b[1;31mNameError\u001b[0m                                 Traceback (most recent call last)",
      "\u001b[1;32m<ipython-input-98-c27b523b7b35>\u001b[0m in \u001b[0;36m<module>\u001b[1;34m()\u001b[0m\n\u001b[0;32m      1\u001b[0m \u001b[1;31m# DO NOT RERUN THIS CELL WHEN SUBMITTING\u001b[0m\u001b[1;33m\u001b[0m\u001b[1;33m\u001b[0m\u001b[0m\n\u001b[0;32m      2\u001b[0m \u001b[1;32mwith\u001b[0m \u001b[0mopen\u001b[0m\u001b[1;33m(\u001b[0m\u001b[1;34m\"data/artistinfo.json\"\u001b[0m\u001b[1;33m,\u001b[0m\u001b[1;34m\"w\"\u001b[0m\u001b[1;33m)\u001b[0m \u001b[1;32mas\u001b[0m \u001b[0mfd\u001b[0m\u001b[1;33m:\u001b[0m\u001b[1;33m\u001b[0m\u001b[0m\n\u001b[1;32m----> 3\u001b[1;33m     \u001b[0mjson\u001b[0m\u001b[1;33m.\u001b[0m\u001b[0mdump\u001b[0m\u001b[1;33m(\u001b[0m\u001b[0murlcache\u001b[0m\u001b[1;33m,\u001b[0m \u001b[0mfd\u001b[0m\u001b[1;33m)\u001b[0m\u001b[1;33m\u001b[0m\u001b[0m\n\u001b[0m\u001b[0;32m      4\u001b[0m \u001b[1;32mdel\u001b[0m \u001b[0murlcache\u001b[0m\u001b[1;33m\u001b[0m\u001b[0m\n",
      "\u001b[1;31mNameError\u001b[0m: name 'urlcache' is not defined"
     ]
    }
   ],
   "source": [
    "# DO NOT RERUN THIS CELL WHEN SUBMITTING\n",
    "with open(\"data/artistinfo.json\",\"w\") as fd:\n",
    "    json.dump(urlcache, fd)\n",
    "del urlcache"
   ]
  },
  {
   "cell_type": "code",
   "execution_count": 21,
   "metadata": {
    "scrolled": false
   },
   "outputs": [
    {
     "ename": "JSONDecodeError",
     "evalue": "Expecting value: line 1 column 1 (char 0)",
     "output_type": "error",
     "traceback": [
      "\u001b[1;31m---------------------------------------------------------------------------\u001b[0m",
      "\u001b[1;31mJSONDecodeError\u001b[0m                           Traceback (most recent call last)",
      "\u001b[1;32m<ipython-input-21-3848d866bc15>\u001b[0m in \u001b[0;36m<module>\u001b[1;34m()\u001b[0m\n\u001b[0;32m      1\u001b[0m \u001b[1;31m# RERUN WHEN SUBMITTING\u001b[0m\u001b[1;33m\u001b[0m\u001b[1;33m\u001b[0m\u001b[0m\n\u001b[0;32m      2\u001b[0m \u001b[1;32mwith\u001b[0m \u001b[0mopen\u001b[0m\u001b[1;33m(\u001b[0m\u001b[1;34m\"data/artistinfo.json\"\u001b[0m\u001b[1;33m)\u001b[0m \u001b[1;32mas\u001b[0m \u001b[0mjson_file\u001b[0m\u001b[1;33m:\u001b[0m\u001b[1;33m\u001b[0m\u001b[0m\n\u001b[1;32m----> 3\u001b[1;33m     \u001b[0murlcache\u001b[0m \u001b[1;33m=\u001b[0m \u001b[0mjson\u001b[0m\u001b[1;33m.\u001b[0m\u001b[0mload\u001b[0m\u001b[1;33m(\u001b[0m\u001b[0mjson_file\u001b[0m\u001b[1;33m)\u001b[0m\u001b[1;33m\u001b[0m\u001b[0m\n\u001b[0m",
      "\u001b[1;32m~\\AppData\\Local\\Continuum\\anaconda3\\lib\\json\\__init__.py\u001b[0m in \u001b[0;36mload\u001b[1;34m(fp, cls, object_hook, parse_float, parse_int, parse_constant, object_pairs_hook, **kw)\u001b[0m\n\u001b[0;32m    297\u001b[0m         \u001b[0mcls\u001b[0m\u001b[1;33m=\u001b[0m\u001b[0mcls\u001b[0m\u001b[1;33m,\u001b[0m \u001b[0mobject_hook\u001b[0m\u001b[1;33m=\u001b[0m\u001b[0mobject_hook\u001b[0m\u001b[1;33m,\u001b[0m\u001b[1;33m\u001b[0m\u001b[0m\n\u001b[0;32m    298\u001b[0m         \u001b[0mparse_float\u001b[0m\u001b[1;33m=\u001b[0m\u001b[0mparse_float\u001b[0m\u001b[1;33m,\u001b[0m \u001b[0mparse_int\u001b[0m\u001b[1;33m=\u001b[0m\u001b[0mparse_int\u001b[0m\u001b[1;33m,\u001b[0m\u001b[1;33m\u001b[0m\u001b[0m\n\u001b[1;32m--> 299\u001b[1;33m         parse_constant=parse_constant, object_pairs_hook=object_pairs_hook, **kw)\n\u001b[0m\u001b[0;32m    300\u001b[0m \u001b[1;33m\u001b[0m\u001b[0m\n\u001b[0;32m    301\u001b[0m \u001b[1;33m\u001b[0m\u001b[0m\n",
      "\u001b[1;32m~\\AppData\\Local\\Continuum\\anaconda3\\lib\\json\\__init__.py\u001b[0m in \u001b[0;36mloads\u001b[1;34m(s, encoding, cls, object_hook, parse_float, parse_int, parse_constant, object_pairs_hook, **kw)\u001b[0m\n\u001b[0;32m    352\u001b[0m             \u001b[0mparse_int\u001b[0m \u001b[1;32mis\u001b[0m \u001b[1;32mNone\u001b[0m \u001b[1;32mand\u001b[0m \u001b[0mparse_float\u001b[0m \u001b[1;32mis\u001b[0m \u001b[1;32mNone\u001b[0m \u001b[1;32mand\u001b[0m\u001b[1;33m\u001b[0m\u001b[0m\n\u001b[0;32m    353\u001b[0m             parse_constant is None and object_pairs_hook is None and not kw):\n\u001b[1;32m--> 354\u001b[1;33m         \u001b[1;32mreturn\u001b[0m \u001b[0m_default_decoder\u001b[0m\u001b[1;33m.\u001b[0m\u001b[0mdecode\u001b[0m\u001b[1;33m(\u001b[0m\u001b[0ms\u001b[0m\u001b[1;33m)\u001b[0m\u001b[1;33m\u001b[0m\u001b[0m\n\u001b[0m\u001b[0;32m    355\u001b[0m     \u001b[1;32mif\u001b[0m \u001b[0mcls\u001b[0m \u001b[1;32mis\u001b[0m \u001b[1;32mNone\u001b[0m\u001b[1;33m:\u001b[0m\u001b[1;33m\u001b[0m\u001b[0m\n\u001b[0;32m    356\u001b[0m         \u001b[0mcls\u001b[0m \u001b[1;33m=\u001b[0m \u001b[0mJSONDecoder\u001b[0m\u001b[1;33m\u001b[0m\u001b[0m\n",
      "\u001b[1;32m~\\AppData\\Local\\Continuum\\anaconda3\\lib\\json\\decoder.py\u001b[0m in \u001b[0;36mdecode\u001b[1;34m(self, s, _w)\u001b[0m\n\u001b[0;32m    337\u001b[0m \u001b[1;33m\u001b[0m\u001b[0m\n\u001b[0;32m    338\u001b[0m         \"\"\"\n\u001b[1;32m--> 339\u001b[1;33m         \u001b[0mobj\u001b[0m\u001b[1;33m,\u001b[0m \u001b[0mend\u001b[0m \u001b[1;33m=\u001b[0m \u001b[0mself\u001b[0m\u001b[1;33m.\u001b[0m\u001b[0mraw_decode\u001b[0m\u001b[1;33m(\u001b[0m\u001b[0ms\u001b[0m\u001b[1;33m,\u001b[0m \u001b[0midx\u001b[0m\u001b[1;33m=\u001b[0m\u001b[0m_w\u001b[0m\u001b[1;33m(\u001b[0m\u001b[0ms\u001b[0m\u001b[1;33m,\u001b[0m \u001b[1;36m0\u001b[0m\u001b[1;33m)\u001b[0m\u001b[1;33m.\u001b[0m\u001b[0mend\u001b[0m\u001b[1;33m(\u001b[0m\u001b[1;33m)\u001b[0m\u001b[1;33m)\u001b[0m\u001b[1;33m\u001b[0m\u001b[0m\n\u001b[0m\u001b[0;32m    340\u001b[0m         \u001b[0mend\u001b[0m \u001b[1;33m=\u001b[0m \u001b[0m_w\u001b[0m\u001b[1;33m(\u001b[0m\u001b[0ms\u001b[0m\u001b[1;33m,\u001b[0m \u001b[0mend\u001b[0m\u001b[1;33m)\u001b[0m\u001b[1;33m.\u001b[0m\u001b[0mend\u001b[0m\u001b[1;33m(\u001b[0m\u001b[1;33m)\u001b[0m\u001b[1;33m\u001b[0m\u001b[0m\n\u001b[0;32m    341\u001b[0m         \u001b[1;32mif\u001b[0m \u001b[0mend\u001b[0m \u001b[1;33m!=\u001b[0m \u001b[0mlen\u001b[0m\u001b[1;33m(\u001b[0m\u001b[0ms\u001b[0m\u001b[1;33m)\u001b[0m\u001b[1;33m:\u001b[0m\u001b[1;33m\u001b[0m\u001b[0m\n",
      "\u001b[1;32m~\\AppData\\Local\\Continuum\\anaconda3\\lib\\json\\decoder.py\u001b[0m in \u001b[0;36mraw_decode\u001b[1;34m(self, s, idx)\u001b[0m\n\u001b[0;32m    355\u001b[0m             \u001b[0mobj\u001b[0m\u001b[1;33m,\u001b[0m \u001b[0mend\u001b[0m \u001b[1;33m=\u001b[0m \u001b[0mself\u001b[0m\u001b[1;33m.\u001b[0m\u001b[0mscan_once\u001b[0m\u001b[1;33m(\u001b[0m\u001b[0ms\u001b[0m\u001b[1;33m,\u001b[0m \u001b[0midx\u001b[0m\u001b[1;33m)\u001b[0m\u001b[1;33m\u001b[0m\u001b[0m\n\u001b[0;32m    356\u001b[0m         \u001b[1;32mexcept\u001b[0m \u001b[0mStopIteration\u001b[0m \u001b[1;32mas\u001b[0m \u001b[0merr\u001b[0m\u001b[1;33m:\u001b[0m\u001b[1;33m\u001b[0m\u001b[0m\n\u001b[1;32m--> 357\u001b[1;33m             \u001b[1;32mraise\u001b[0m \u001b[0mJSONDecodeError\u001b[0m\u001b[1;33m(\u001b[0m\u001b[1;34m\"Expecting value\"\u001b[0m\u001b[1;33m,\u001b[0m \u001b[0ms\u001b[0m\u001b[1;33m,\u001b[0m \u001b[0merr\u001b[0m\u001b[1;33m.\u001b[0m\u001b[0mvalue\u001b[0m\u001b[1;33m)\u001b[0m \u001b[1;32mfrom\u001b[0m \u001b[1;32mNone\u001b[0m\u001b[1;33m\u001b[0m\u001b[0m\n\u001b[0m\u001b[0;32m    358\u001b[0m         \u001b[1;32mreturn\u001b[0m \u001b[0mobj\u001b[0m\u001b[1;33m,\u001b[0m \u001b[0mend\u001b[0m\u001b[1;33m\u001b[0m\u001b[0m\n",
      "\u001b[1;31mJSONDecodeError\u001b[0m: Expecting value: line 1 column 1 (char 0)"
     ]
    }
   ],
   "source": [
    "# RERUN WHEN SUBMITTING\n",
    "with open(\"data/artistinfo.json\") as json_file:\n",
    "    urlcache = json.load(json_file)"
   ]
  },
  {
   "cell_type": "markdown",
   "metadata": {},
   "source": [
    "#### 2.1 Extract information about singers and bands"
   ]
  },
  {
   "cell_type": "markdown",
   "metadata": {},
   "source": [
    "From each page we collected about a singer or a band, extract the following information:\n",
    "\n",
    "1. If the page has the text \"Born\" in the sidebar on the right, extract the element with the class `.bday`. If the page doesn't contain \"Born\", store `False`.  Store either of these into the variable `born`. We want to analyze the artist's age.\n",
    "\n",
    "2. If the text \"Years active\" is found, but no \"born\", assume a band. Store into the variable `ya` the value of the next table cell corresponding to this, or `False` if the text is not found.\n",
    "\n",
    "Put this all into a function `singer_band_info` which takes the singer/band url as argument and returns a dictionary `dict(url=url, born=born, ya=ya)`.\n",
    "\n",
    "The information can be found on the sidebar on each such wikipedia page, as the example here shows:\n",
    "\n",
    "![sandg](https://raw.githubusercontent.com/cs109/a-2017/master/hwassets/images/sandg.png).\n",
    "\n"
   ]
  },
  {
   "cell_type": "markdown",
   "metadata": {},
   "source": [
    "Write the function `singer_band_info` according to the following specification:"
   ]
  },
  {
   "cell_type": "markdown",
   "metadata": {},
   "source": [
    "Plot a histogram of the age at which singers achieve their top ranking. What conclusions can you draw from this distribution of ages?\n",
    "\n",
    "*HINT: You will need to do some manipulation of the `born` column, and find the song for which a band or an artist achieves their top ranking. You will then need to put these rows together into another dataframe or array to make the plot.*"
   ]
  },
  {
   "cell_type": "code",
   "execution_count": 1,
   "metadata": {},
   "outputs": [
    {
     "ename": "NameError",
     "evalue": "name 'largedf' is not defined",
     "output_type": "error",
     "traceback": [
      "\u001b[1;31m---------------------------------------------------------------------------\u001b[0m",
      "\u001b[1;31mNameError\u001b[0m                                 Traceback (most recent call last)",
      "\u001b[1;32m<ipython-input-1-61f9d34fc7f8>\u001b[0m in \u001b[0;36m<module>\u001b[1;34m()\u001b[0m\n\u001b[1;32m----> 1\u001b[1;33m \u001b[0mdfb\u001b[0m\u001b[1;33m=\u001b[0m\u001b[0mlargedf\u001b[0m\u001b[1;33m[\u001b[0m\u001b[0mlargedf\u001b[0m\u001b[1;33m.\u001b[0m\u001b[0mborn\u001b[0m\u001b[1;33m!=\u001b[0m\u001b[1;32mFalse\u001b[0m\u001b[1;33m]\u001b[0m\u001b[1;33m[\u001b[0m\u001b[1;33m[\u001b[0m\u001b[1;34m'year'\u001b[0m\u001b[1;33m,\u001b[0m\u001b[1;34m'born'\u001b[0m\u001b[1;33m,\u001b[0m\u001b[1;34m'ranking'\u001b[0m\u001b[1;33m,\u001b[0m\u001b[1;34m'url'\u001b[0m\u001b[1;33m]\u001b[0m\u001b[1;33m]\u001b[0m\u001b[1;33m\u001b[0m\u001b[0m\n\u001b[0m\u001b[0;32m      2\u001b[0m \u001b[0mdfb\u001b[0m\u001b[1;33m[\u001b[0m\u001b[1;34m'byear'\u001b[0m\u001b[1;33m]\u001b[0m\u001b[1;33m=\u001b[0m\u001b[0mdfb\u001b[0m\u001b[1;33m.\u001b[0m\u001b[0mborn\u001b[0m\u001b[1;33m.\u001b[0m\u001b[0mapply\u001b[0m\u001b[1;33m(\u001b[0m\u001b[1;32mlambda\u001b[0m \u001b[0mx\u001b[0m\u001b[1;33m:\u001b[0m \u001b[0mint\u001b[0m\u001b[1;33m(\u001b[0m\u001b[0mx\u001b[0m\u001b[1;33m.\u001b[0m\u001b[0msplit\u001b[0m\u001b[1;33m(\u001b[0m\u001b[1;34m'-'\u001b[0m\u001b[1;33m)\u001b[0m\u001b[1;33m[\u001b[0m\u001b[1;36m0\u001b[0m\u001b[1;33m]\u001b[0m\u001b[1;33m)\u001b[0m\u001b[1;33m)\u001b[0m\u001b[1;33m\u001b[0m\u001b[0m\n\u001b[0;32m      3\u001b[0m \u001b[0mbyurl\u001b[0m\u001b[1;33m=\u001b[0m\u001b[0mdfb\u001b[0m\u001b[1;33m.\u001b[0m\u001b[0mgroupby\u001b[0m\u001b[1;33m(\u001b[0m\u001b[1;34m'url'\u001b[0m\u001b[1;33m)\u001b[0m\u001b[1;33m\u001b[0m\u001b[0m\n\u001b[0;32m      4\u001b[0m \u001b[0mframes\u001b[0m\u001b[1;33m=\u001b[0m\u001b[1;33m[\u001b[0m\u001b[1;33m]\u001b[0m\u001b[1;33m\u001b[0m\u001b[0m\n\u001b[0;32m      5\u001b[0m \u001b[1;32mfor\u001b[0m \u001b[0mk\u001b[0m\u001b[1;33m,\u001b[0m \u001b[0mv\u001b[0m \u001b[1;32min\u001b[0m \u001b[0mbyurl\u001b[0m\u001b[1;33m:\u001b[0m\u001b[1;33m\u001b[0m\u001b[0m\n",
      "\u001b[1;31mNameError\u001b[0m: name 'largedf' is not defined"
     ]
    }
   ],
   "source": [
    "dfb=largedf[largedf.born!=False][['year','born','ranking','url']]\n",
    "dfb['byear']=dfb.born.apply(lambda x: int(x.split('-')[0]))\n",
    "byurl=dfb.groupby('url')\n",
    "frames=[]\n",
    "for k, v in byurl:\n",
    "    minr=v.ranking.min()\n",
    "    frames.append(v[v.ranking==minr])\n",
    "topscoresdf=pd.concat(frames)\n",
    "(topscoresdf.year-topscoresdf.byear).hist(bins=np.arange(10,70,2), normed=True);"
   ]
  },
  {
   "cell_type": "markdown",
   "metadata": {},
   "source": [
    "*your answer here*\n",
    "\n",
    "The *age of first fame* has an interesting shape, unimodal with a mode in the late 20s with a long tail to the right. This makes sense because there really is a lower age limit to artists but not so much an upper one. So you expect this type of behavior."
   ]
  },
  {
   "cell_type": "markdown",
   "metadata": {},
   "source": [
    "#### 2.4 At what year since inception do bands reach their top rankings?"
   ]
  },
  {
   "cell_type": "markdown",
   "metadata": {},
   "source": [
    "Make a similar calculation to plot a histogram of the years since inception at which bands reach their top ranking. What conclusions can you draw?"
   ]
  },
  {
   "cell_type": "code",
   "execution_count": 80,
   "metadata": {},
   "outputs": [
    {
     "data": {
      "text/plain": [
       "<matplotlib.axes._subplots.AxesSubplot at 0x11a644c18>"
      ]
     },
     "execution_count": 80,
     "metadata": {},
     "output_type": "execute_result"
    },
    {
     "data": {
      "image/png": "[encoded data removed]",
      "text/plain": [
       "<matplotlib.figure.Figure at 0x11a644da0>"
      ]
     },
     "metadata": {},
     "output_type": "display_data"
    }
   ],
   "source": [
    "#your code here\n",
    "dfg=largedf[largedf.born==False]\n",
    "dfg=dfg[dfg.ya!=False]#drop em!\n",
    "dfg['start']=dfg.ya.apply(lambda x: int(x[:4]))\n",
    "frames2=[]\n",
    "for k, v in dfg.groupby('url'):\n",
    "    minr=v.ranking.min()\n",
    "    frames2.append(v[v.ranking==minr])\n",
    "tsdfg=pd.concat(frames2)\n",
    "(tsdfg.year-tsdfg.start).hist(bins=20)"
   ]
  },
  {
   "cell_type": "markdown",
   "metadata": {},
   "source": [
    "*your answer here*\n",
    "\n",
    "There are many bands (a majority) that hit the top 100 within 8 years of inception. But there are still a large fraction of bands that take over 10 years to hit the top 100. I'm not saying that hitting this is the be-all and end-all, but it's at least an indication. But it's also important to keep the context in mind, many bands aren't together very long so if they were to hit the top-100 they would have to do it within the time that they are together. But all of this information is available on the Wikipedia pages, so we encourage further exploration."
   ]
  }
 ],
 "metadata": {
  "kernelspec": {
   "display_name": "Python 3",
   "language": "python",
   "name": "python3"
  },
  "language_info": {
   "codemirror_mode": {
    "name": "ipython",
    "version": 3
   },
   "file_extension": ".py",
   "mimetype": "text/x-python",
   "name": "python",
   "nbconvert_exporter": "python",
   "pygments_lexer": "ipython3",
   "version": "3.6.2"
  }
 },
 "nbformat": 4,
 "nbformat_minor": 1
}
